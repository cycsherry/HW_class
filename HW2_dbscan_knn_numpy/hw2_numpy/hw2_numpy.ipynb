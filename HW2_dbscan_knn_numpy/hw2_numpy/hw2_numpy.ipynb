{
 "cells": [
  {
   "cell_type": "markdown",
   "id": "7d0bb4ba",
   "metadata": {},
   "source": [
    "## Instructions\n",
    "\n",
    "#### 。 This homework has two parts\n",
    "    1. There are 6 simple questions, just follow the instrctions and get the same output as the following.\n",
    "    2. It's how simple neural networks working. As the same as part 1, just follow the instructions and get the same output\n",
    "\n",
    "#### 。 All of this homework should use Numpy or Pandas\n",
    "\n",
    "#### 。 Please follow the same variable name as the instuctions of every questions "
   ]
  },
  {
   "cell_type": "markdown",
   "id": "4a785df8",
   "metadata": {},
   "source": [
    "## Part 1"
   ]
  },
  {
   "cell_type": "markdown",
   "id": "79e75da6",
   "metadata": {},
   "source": [
    "**1. Import both numpy and pandas packages**"
   ]
  },
  {
   "cell_type": "code",
   "execution_count": 5,
   "id": "731951b8",
   "metadata": {},
   "outputs": [],
   "source": [
    "import pandas as pd\n",
    "import numpy as np"
   ]
  },
  {
   "cell_type": "markdown",
   "id": "35e53ccc",
   "metadata": {},
   "source": [
    "**2. Create a 3x3 matrix with values ranging from 0 to 8**"
   ]
  },
  {
   "cell_type": "code",
   "execution_count": 6,
   "id": "7427a629",
   "metadata": {},
   "outputs": [
    {
     "data": {
      "text/plain": [
       "array([[0, 1, 2],\n",
       "       [3, 4, 5],\n",
       "       [6, 7, 8]])"
      ]
     },
     "execution_count": 6,
     "metadata": {},
     "output_type": "execute_result"
    }
   ],
   "source": [
    "a1=np.array([[0,1,2],[3,4,5],[6,7,8]])\n",
    "a1"
   ]
  },
  {
   "cell_type": "markdown",
   "id": "e10054c0",
   "metadata": {},
   "source": [
    "**3. Create a 5x5 matrix with row values ranging from 0 to 4**"
   ]
  },
  {
   "cell_type": "code",
   "execution_count": 7,
   "id": "f4499c50",
   "metadata": {},
   "outputs": [
    {
     "data": {
      "text/plain": [
       "array([[0., 1., 2., 3., 4.],\n",
       "       [0., 1., 2., 3., 4.],\n",
       "       [0., 1., 2., 3., 4.],\n",
       "       [0., 1., 2., 3., 4.],\n",
       "       [0., 1., 2., 3., 4.]])"
      ]
     },
     "execution_count": 7,
     "metadata": {},
     "output_type": "execute_result"
    }
   ],
   "source": [
    "b=np.full((5,5),[0.,1.,2.,3.,4.])\n",
    "b"
   ]
  },
  {
   "cell_type": "markdown",
   "id": "28fcfbd4",
   "metadata": {},
   "source": [
    "**4. How to swap the first and second rows of a**"
   ]
  },
  {
   "cell_type": "code",
   "execution_count": 8,
   "id": "742d6c69",
   "metadata": {},
   "outputs": [],
   "source": [
    "a = np.arange(25).reshape(5,5)\n"
   ]
  },
  {
   "cell_type": "markdown",
   "id": "88d04f30",
   "metadata": {},
   "source": [
    "**5. Give two ways to show how to get the n largest values of a (no sort the value is fine)**"
   ]
  },
  {
   "cell_type": "code",
   "execution_count": 9,
   "id": "4d41a623",
   "metadata": {},
   "outputs": [],
   "source": [
    "# Don't need to change this cell\n",
    "a = np.arange(100)\n",
    "np.random.shuffle(a)\n",
    "n = 5"
   ]
  },
  {
   "cell_type": "code",
   "execution_count": 10,
   "id": "6c9a0015",
   "metadata": {},
   "outputs": [
    {
     "name": "stdout",
     "output_type": "stream",
     "text": [
      "[95, 96, 97, 99, 98]\n"
     ]
    }
   ],
   "source": [
    "# Way 1\n",
    "max_index=np.argpartition(a,-n)[-n:]\n",
    "print(list(a[max_index]))"
   ]
  },
  {
   "cell_type": "code",
   "execution_count": 11,
   "id": "79eba703",
   "metadata": {},
   "outputs": [
    {
     "name": "stdout",
     "output_type": "stream",
     "text": [
      "99 98 97 96 95\n"
     ]
    }
   ],
   "source": [
    "# Way 2\n",
    "a.sort()\n",
    "print(a[99],a[98],a[97],a[96],a[95])"
   ]
  },
  {
   "cell_type": "markdown",
   "id": "6fb2592e",
   "metadata": {},
   "source": [
    "**6. Compare if array a and array b is totally the same**"
   ]
  },
  {
   "cell_type": "code",
   "execution_count": 43,
   "id": "b3b92561",
   "metadata": {},
   "outputs": [
    {
     "name": "stdout",
     "output_type": "stream",
     "text": [
      "False\n"
     ]
    }
   ],
   "source": [
    "np.random.seed(123)\n",
    "a = np.round(np.random.random(100)*100, 0)\n",
    "b = np.random.randint(1, 100, 100)\n",
    "compare=list(a==b)\n",
    "if False in compare:\n",
    "    print(\"False\")"
   ]
  },
  {
   "cell_type": "markdown",
   "id": "bc596005",
   "metadata": {},
   "source": [
    "## Part 2"
   ]
  },
  {
   "cell_type": "markdown",
   "id": "70824df6",
   "metadata": {},
   "source": [
    "### Online Shoppers Purchasing Intention Dataset\n",
    "\n",
    "The dataset consists of 10 numerical and 8 categorical attributes. The 'Revenue' attribute can be used as the class label.\n",
    "\n",
    "* ``0 Administrative``, ``1 Administrative Duration``, ``2 Informational``, ``3 Informational Duration``, ``4 Product Related`` and ``5 Product Related Duration`` - represent the number of different types of pages visited by the visitor in that session and total time spent in each of these page categories. The values of these features are derived from the URL information of the pages visited by the user and updated in real time when a user takes an action, e.g. moving from one page to another. \n",
    "\n",
    "\n",
    "* ``6 Bounce Rate``, ``7 Exit Rate`` and ``8 Page Value`` - represent the metrics measured by \"Google Analytics\" for each page in the e-commerce site. The value of \"Bounce Rate\" feature for a web page refers to the percentage of visitors who enter the site from that page and then leave (\"bounce\") without triggering any other requests to the analytics server during that session. The value of \"Exit Rate\" feature for a specific web page is calculated as for all pageviews to the page, the percentage that were the last in the session. The \"Page Value\" feature represents the average value for a web page that a user visited before completing an e-commerce transaction. \n",
    "\n",
    "\n",
    "* ``9 Special Day`` - indicates the closeness of the site visiting time to a specific special day (e.g. Mother’s Day, Valentine's Day) in which the sessions are more likely to be finalized with transaction. The value of this attribute is determined by considering the dynamics of e-commerce such as the duration between the order date and delivery date. For example, for Valentina’s day, this value takes a nonzero value between February 2 and February 12, zero before and after this date unless it is close to another special day, and its maximum value of 1 on February 8. \n",
    "\n",
    "\n",
    "* The dataset also includes ``11 operating system``, ``12 browser``, ``13 region``, ``14 traffic type``, ``15 visitor type`` as returning or new visitor, a Boolean value indicating whether the date of the visit is ``16 weekend``, and ``9 month of the year``.\n",
    "\n",
    "\n",
    "---\n",
    "* **``17 Revenue``** - binary labels\n",
    "\n",
    "\n",
    "\n",
    "* More information of this data: [UCI | Online Shoppers Purchasing Intention Dataset](https://archive.ics.uci.edu/ml/datasets/Online+Shoppers+Purchasing+Intention+Dataset#)"
   ]
  },
  {
   "cell_type": "markdown",
   "id": "5dff7032",
   "metadata": {},
   "source": [
    "**Use pandas to import the data and check the shape of dataset and save it as `\" shoppers \"`**"
   ]
  },
  {
   "cell_type": "code",
   "execution_count": 13,
   "id": "66dd59b2",
   "metadata": {},
   "outputs": [
    {
     "name": "stdout",
     "output_type": "stream",
     "text": [
      "(12330, 18)\n"
     ]
    }
   ],
   "source": [
    "online_shoppers_intention=pd.read_csv(\"online_shoppers_intention.csv\")\n",
    "shoppers = (online_shoppers_intention.shape[0],online_shoppers_intention.shape[1])\n",
    "print(shoppers)"
   ]
  },
  {
   "cell_type": "markdown",
   "id": "a3f20129",
   "metadata": {},
   "source": [
    "**Use pandas function to let label be numeric as below and save it as `\" label \"`**"
   ]
  },
  {
   "cell_type": "code",
   "execution_count": 14,
   "id": "dff561d3",
   "metadata": {},
   "outputs": [
    {
     "data": {
      "text/plain": [
       "array([0, 0, 0, ..., 0, 0, 0], dtype=int8)"
      ]
     },
     "execution_count": 14,
     "metadata": {},
     "output_type": "execute_result"
    }
   ],
   "source": [
    "Revenue=online_shoppers_intention[\"Revenue\"]\n",
    "# print(Revenue)\n",
    "label_list = []\n",
    "for i in Revenue:\n",
    "    if i == False:\n",
    "        label_list.append(0)\n",
    "    if i ==True:\n",
    "        label_list.append(1)\n",
    "label=np.array(label_list)\n",
    "label=np.int8(label)\n",
    "label"
   ]
  },
  {
   "cell_type": "markdown",
   "id": "21859d91",
   "metadata": {},
   "source": [
    "**See some information of this data**"
   ]
  },
  {
   "cell_type": "code",
   "execution_count": 15,
   "id": "6555a4cf",
   "metadata": {},
   "outputs": [
    {
     "data": {
      "text/html": [
       "<div>\n",
       "<style scoped>\n",
       "    .dataframe tbody tr th:only-of-type {\n",
       "        vertical-align: middle;\n",
       "    }\n",
       "\n",
       "    .dataframe tbody tr th {\n",
       "        vertical-align: top;\n",
       "    }\n",
       "\n",
       "    .dataframe thead th {\n",
       "        text-align: right;\n",
       "    }\n",
       "</style>\n",
       "<table border=\"1\" class=\"dataframe\">\n",
       "  <thead>\n",
       "    <tr style=\"text-align: right;\">\n",
       "      <th></th>\n",
       "      <th>Administrative</th>\n",
       "      <th>Administrative_Duration</th>\n",
       "      <th>Informational</th>\n",
       "      <th>Informational_Duration</th>\n",
       "      <th>ProductRelated</th>\n",
       "      <th>ProductRelated_Duration</th>\n",
       "      <th>BounceRates</th>\n",
       "      <th>ExitRates</th>\n",
       "      <th>PageValues</th>\n",
       "      <th>SpecialDay</th>\n",
       "      <th>Month</th>\n",
       "      <th>OperatingSystems</th>\n",
       "      <th>Browser</th>\n",
       "      <th>Region</th>\n",
       "      <th>TrafficType</th>\n",
       "      <th>VisitorType</th>\n",
       "      <th>Weekend</th>\n",
       "      <th>Revenue</th>\n",
       "    </tr>\n",
       "  </thead>\n",
       "  <tbody>\n",
       "    <tr>\n",
       "      <th>0</th>\n",
       "      <td>0</td>\n",
       "      <td>0.0</td>\n",
       "      <td>0</td>\n",
       "      <td>0.0</td>\n",
       "      <td>1</td>\n",
       "      <td>0.000000</td>\n",
       "      <td>0.20</td>\n",
       "      <td>0.20</td>\n",
       "      <td>0.0</td>\n",
       "      <td>0.0</td>\n",
       "      <td>Feb</td>\n",
       "      <td>1</td>\n",
       "      <td>1</td>\n",
       "      <td>1</td>\n",
       "      <td>1</td>\n",
       "      <td>Returning_Visitor</td>\n",
       "      <td>False</td>\n",
       "      <td>False</td>\n",
       "    </tr>\n",
       "    <tr>\n",
       "      <th>1</th>\n",
       "      <td>0</td>\n",
       "      <td>0.0</td>\n",
       "      <td>0</td>\n",
       "      <td>0.0</td>\n",
       "      <td>2</td>\n",
       "      <td>64.000000</td>\n",
       "      <td>0.00</td>\n",
       "      <td>0.10</td>\n",
       "      <td>0.0</td>\n",
       "      <td>0.0</td>\n",
       "      <td>Feb</td>\n",
       "      <td>2</td>\n",
       "      <td>2</td>\n",
       "      <td>1</td>\n",
       "      <td>2</td>\n",
       "      <td>Returning_Visitor</td>\n",
       "      <td>False</td>\n",
       "      <td>False</td>\n",
       "    </tr>\n",
       "    <tr>\n",
       "      <th>2</th>\n",
       "      <td>0</td>\n",
       "      <td>0.0</td>\n",
       "      <td>0</td>\n",
       "      <td>0.0</td>\n",
       "      <td>1</td>\n",
       "      <td>0.000000</td>\n",
       "      <td>0.20</td>\n",
       "      <td>0.20</td>\n",
       "      <td>0.0</td>\n",
       "      <td>0.0</td>\n",
       "      <td>Feb</td>\n",
       "      <td>4</td>\n",
       "      <td>1</td>\n",
       "      <td>9</td>\n",
       "      <td>3</td>\n",
       "      <td>Returning_Visitor</td>\n",
       "      <td>False</td>\n",
       "      <td>False</td>\n",
       "    </tr>\n",
       "    <tr>\n",
       "      <th>3</th>\n",
       "      <td>0</td>\n",
       "      <td>0.0</td>\n",
       "      <td>0</td>\n",
       "      <td>0.0</td>\n",
       "      <td>2</td>\n",
       "      <td>2.666667</td>\n",
       "      <td>0.05</td>\n",
       "      <td>0.14</td>\n",
       "      <td>0.0</td>\n",
       "      <td>0.0</td>\n",
       "      <td>Feb</td>\n",
       "      <td>3</td>\n",
       "      <td>2</td>\n",
       "      <td>2</td>\n",
       "      <td>4</td>\n",
       "      <td>Returning_Visitor</td>\n",
       "      <td>False</td>\n",
       "      <td>False</td>\n",
       "    </tr>\n",
       "    <tr>\n",
       "      <th>4</th>\n",
       "      <td>0</td>\n",
       "      <td>0.0</td>\n",
       "      <td>0</td>\n",
       "      <td>0.0</td>\n",
       "      <td>10</td>\n",
       "      <td>627.500000</td>\n",
       "      <td>0.02</td>\n",
       "      <td>0.05</td>\n",
       "      <td>0.0</td>\n",
       "      <td>0.0</td>\n",
       "      <td>Feb</td>\n",
       "      <td>3</td>\n",
       "      <td>3</td>\n",
       "      <td>1</td>\n",
       "      <td>4</td>\n",
       "      <td>Returning_Visitor</td>\n",
       "      <td>True</td>\n",
       "      <td>False</td>\n",
       "    </tr>\n",
       "  </tbody>\n",
       "</table>\n",
       "</div>"
      ],
      "text/plain": [
       "   Administrative  Administrative_Duration  Informational  \\\n",
       "0               0                      0.0              0   \n",
       "1               0                      0.0              0   \n",
       "2               0                      0.0              0   \n",
       "3               0                      0.0              0   \n",
       "4               0                      0.0              0   \n",
       "\n",
       "   Informational_Duration  ProductRelated  ProductRelated_Duration  \\\n",
       "0                     0.0               1                 0.000000   \n",
       "1                     0.0               2                64.000000   \n",
       "2                     0.0               1                 0.000000   \n",
       "3                     0.0               2                 2.666667   \n",
       "4                     0.0              10               627.500000   \n",
       "\n",
       "   BounceRates  ExitRates  PageValues  SpecialDay Month  OperatingSystems  \\\n",
       "0         0.20       0.20         0.0         0.0   Feb                 1   \n",
       "1         0.00       0.10         0.0         0.0   Feb                 2   \n",
       "2         0.20       0.20         0.0         0.0   Feb                 4   \n",
       "3         0.05       0.14         0.0         0.0   Feb                 3   \n",
       "4         0.02       0.05         0.0         0.0   Feb                 3   \n",
       "\n",
       "   Browser  Region  TrafficType        VisitorType  Weekend  Revenue  \n",
       "0        1       1            1  Returning_Visitor    False    False  \n",
       "1        2       1            2  Returning_Visitor    False    False  \n",
       "2        1       9            3  Returning_Visitor    False    False  \n",
       "3        2       2            4  Returning_Visitor    False    False  \n",
       "4        3       1            4  Returning_Visitor     True    False  "
      ]
     },
     "execution_count": 15,
     "metadata": {},
     "output_type": "execute_result"
    }
   ],
   "source": [
    "online_shoppers_intention.head()"
   ]
  },
  {
   "cell_type": "code",
   "execution_count": 16,
   "id": "ba333f92",
   "metadata": {},
   "outputs": [
    {
     "name": "stderr",
     "output_type": "stream",
     "text": [
      "C:\\Users\\YUCHEN~1\\AppData\\Local\\Temp/ipykernel_10544/3350573821.py:1: FutureWarning: Dropping of nuisance columns in DataFrame reductions (with 'numeric_only=None') is deprecated; in a future version this will raise TypeError.  Select only valid columns before calling the reduction.\n",
      "  df=pd.DataFrame({\"count\":online_shoppers_intention.count(numeric_only=True),\"mean\":online_shoppers_intention.mean(numeric_only=True),\"std\":online_shoppers_intention.std(numeric_only=True),\"min\":online_shoppers_intention.min(numeric_only=True),\"25%\":online_shoppers_intention.quantile(0.25,numeric_only=True),\"50%\":online_shoppers_intention.median(),\"75%\":online_shoppers_intention.quantile(0.75,numeric_only=True),\"max\":online_shoppers_intention.max(numeric_only=True)})\n"
     ]
    },
    {
     "data": {
      "text/html": [
       "<div>\n",
       "<style scoped>\n",
       "    .dataframe tbody tr th:only-of-type {\n",
       "        vertical-align: middle;\n",
       "    }\n",
       "\n",
       "    .dataframe tbody tr th {\n",
       "        vertical-align: top;\n",
       "    }\n",
       "\n",
       "    .dataframe thead th {\n",
       "        text-align: right;\n",
       "    }\n",
       "</style>\n",
       "<table border=\"1\" class=\"dataframe\">\n",
       "  <thead>\n",
       "    <tr style=\"text-align: right;\">\n",
       "      <th></th>\n",
       "      <th>Administrative</th>\n",
       "      <th>Administrative_Duration</th>\n",
       "      <th>Informational</th>\n",
       "      <th>Informational_Duration</th>\n",
       "      <th>ProductRelated</th>\n",
       "      <th>ProductRelated_Duration</th>\n",
       "      <th>BounceRates</th>\n",
       "      <th>ExitRates</th>\n",
       "      <th>PageValues</th>\n",
       "      <th>SpecialDay</th>\n",
       "      <th>OperatingSystems</th>\n",
       "      <th>Browser</th>\n",
       "      <th>Region</th>\n",
       "      <th>TrafficType</th>\n",
       "    </tr>\n",
       "  </thead>\n",
       "  <tbody>\n",
       "    <tr>\n",
       "      <th>count</th>\n",
       "      <td>12330</td>\n",
       "      <td>12330</td>\n",
       "      <td>12330</td>\n",
       "      <td>12330</td>\n",
       "      <td>12330</td>\n",
       "      <td>12330</td>\n",
       "      <td>12330</td>\n",
       "      <td>12330</td>\n",
       "      <td>12330</td>\n",
       "      <td>12330</td>\n",
       "      <td>12330</td>\n",
       "      <td>12330</td>\n",
       "      <td>12330</td>\n",
       "      <td>12330</td>\n",
       "    </tr>\n",
       "    <tr>\n",
       "      <th>mean</th>\n",
       "      <td>2.315166</td>\n",
       "      <td>80.818611</td>\n",
       "      <td>0.503569</td>\n",
       "      <td>34.472398</td>\n",
       "      <td>31.731468</td>\n",
       "      <td>1194.74622</td>\n",
       "      <td>0.022191</td>\n",
       "      <td>0.043073</td>\n",
       "      <td>5.889258</td>\n",
       "      <td>0.061427</td>\n",
       "      <td>2.124006</td>\n",
       "      <td>2.357097</td>\n",
       "      <td>3.147364</td>\n",
       "      <td>4.069586</td>\n",
       "    </tr>\n",
       "    <tr>\n",
       "      <th>std</th>\n",
       "      <td>3.321784</td>\n",
       "      <td>176.779107</td>\n",
       "      <td>1.270156</td>\n",
       "      <td>140.749294</td>\n",
       "      <td>44.475503</td>\n",
       "      <td>1913.669288</td>\n",
       "      <td>0.048488</td>\n",
       "      <td>0.048597</td>\n",
       "      <td>18.568437</td>\n",
       "      <td>0.198917</td>\n",
       "      <td>0.911325</td>\n",
       "      <td>1.717277</td>\n",
       "      <td>2.401591</td>\n",
       "      <td>4.025169</td>\n",
       "    </tr>\n",
       "    <tr>\n",
       "      <th>min</th>\n",
       "      <td>0</td>\n",
       "      <td>0.0</td>\n",
       "      <td>0</td>\n",
       "      <td>0.0</td>\n",
       "      <td>0</td>\n",
       "      <td>0.0</td>\n",
       "      <td>0.0</td>\n",
       "      <td>0.0</td>\n",
       "      <td>0.0</td>\n",
       "      <td>0.0</td>\n",
       "      <td>1</td>\n",
       "      <td>1</td>\n",
       "      <td>1</td>\n",
       "      <td>1</td>\n",
       "    </tr>\n",
       "    <tr>\n",
       "      <th>25%</th>\n",
       "      <td>0.0</td>\n",
       "      <td>0.0</td>\n",
       "      <td>0.0</td>\n",
       "      <td>0.0</td>\n",
       "      <td>7.0</td>\n",
       "      <td>184.1375</td>\n",
       "      <td>0.0</td>\n",
       "      <td>0.014286</td>\n",
       "      <td>0.0</td>\n",
       "      <td>0.0</td>\n",
       "      <td>2.0</td>\n",
       "      <td>2.0</td>\n",
       "      <td>1.0</td>\n",
       "      <td>2.0</td>\n",
       "    </tr>\n",
       "    <tr>\n",
       "      <th>50%</th>\n",
       "      <td>1.0</td>\n",
       "      <td>7.5</td>\n",
       "      <td>0.0</td>\n",
       "      <td>0.0</td>\n",
       "      <td>18.0</td>\n",
       "      <td>598.936905</td>\n",
       "      <td>0.003112</td>\n",
       "      <td>0.025156</td>\n",
       "      <td>0.0</td>\n",
       "      <td>0.0</td>\n",
       "      <td>2.0</td>\n",
       "      <td>2.0</td>\n",
       "      <td>3.0</td>\n",
       "      <td>2.0</td>\n",
       "    </tr>\n",
       "    <tr>\n",
       "      <th>75%</th>\n",
       "      <td>4.0</td>\n",
       "      <td>93.25625</td>\n",
       "      <td>0.0</td>\n",
       "      <td>0.0</td>\n",
       "      <td>38.0</td>\n",
       "      <td>1464.157214</td>\n",
       "      <td>0.016813</td>\n",
       "      <td>0.05</td>\n",
       "      <td>0.0</td>\n",
       "      <td>0.0</td>\n",
       "      <td>3.0</td>\n",
       "      <td>2.0</td>\n",
       "      <td>4.0</td>\n",
       "      <td>4.0</td>\n",
       "    </tr>\n",
       "    <tr>\n",
       "      <th>max</th>\n",
       "      <td>27</td>\n",
       "      <td>3398.75</td>\n",
       "      <td>24</td>\n",
       "      <td>2549.375</td>\n",
       "      <td>705</td>\n",
       "      <td>63973.52223</td>\n",
       "      <td>0.2</td>\n",
       "      <td>0.2</td>\n",
       "      <td>361.763742</td>\n",
       "      <td>1.0</td>\n",
       "      <td>8</td>\n",
       "      <td>13</td>\n",
       "      <td>9</td>\n",
       "      <td>20</td>\n",
       "    </tr>\n",
       "  </tbody>\n",
       "</table>\n",
       "</div>"
      ],
      "text/plain": [
       "      Administrative Administrative_Duration Informational  \\\n",
       "count          12330                   12330         12330   \n",
       "mean        2.315166               80.818611      0.503569   \n",
       "std         3.321784              176.779107      1.270156   \n",
       "min                0                     0.0             0   \n",
       "25%              0.0                     0.0           0.0   \n",
       "50%              1.0                     7.5           0.0   \n",
       "75%              4.0                93.25625           0.0   \n",
       "max               27                 3398.75            24   \n",
       "\n",
       "      Informational_Duration ProductRelated ProductRelated_Duration  \\\n",
       "count                  12330          12330                   12330   \n",
       "mean               34.472398      31.731468              1194.74622   \n",
       "std               140.749294      44.475503             1913.669288   \n",
       "min                      0.0              0                     0.0   \n",
       "25%                      0.0            7.0                184.1375   \n",
       "50%                      0.0           18.0              598.936905   \n",
       "75%                      0.0           38.0             1464.157214   \n",
       "max                 2549.375            705             63973.52223   \n",
       "\n",
       "      BounceRates ExitRates  PageValues SpecialDay OperatingSystems   Browser  \\\n",
       "count       12330     12330       12330      12330            12330     12330   \n",
       "mean     0.022191  0.043073    5.889258   0.061427         2.124006  2.357097   \n",
       "std      0.048488  0.048597   18.568437   0.198917         0.911325  1.717277   \n",
       "min           0.0       0.0         0.0        0.0                1         1   \n",
       "25%           0.0  0.014286         0.0        0.0              2.0       2.0   \n",
       "50%      0.003112  0.025156         0.0        0.0              2.0       2.0   \n",
       "75%      0.016813      0.05         0.0        0.0              3.0       2.0   \n",
       "max           0.2       0.2  361.763742        1.0                8        13   \n",
       "\n",
       "         Region TrafficType  \n",
       "count     12330       12330  \n",
       "mean   3.147364    4.069586  \n",
       "std    2.401591    4.025169  \n",
       "min           1           1  \n",
       "25%         1.0         2.0  \n",
       "50%         3.0         2.0  \n",
       "75%         4.0         4.0  \n",
       "max           9          20  "
      ]
     },
     "execution_count": 16,
     "metadata": {},
     "output_type": "execute_result"
    }
   ],
   "source": [
    "df=pd.DataFrame({\"count\":online_shoppers_intention.count(numeric_only=True),\"mean\":online_shoppers_intention.mean(numeric_only=True),\"std\":online_shoppers_intention.std(numeric_only=True),\"min\":online_shoppers_intention.min(numeric_only=True),\"25%\":online_shoppers_intention.quantile(0.25,numeric_only=True),\"50%\":online_shoppers_intention.median(),\"75%\":online_shoppers_intention.quantile(0.75,numeric_only=True),\"max\":online_shoppers_intention.max(numeric_only=True)})\n",
    "# df=df.dropna()\n",
    "df=df.drop([\"Revenue\",\"Weekend\"])\n",
    "df=df.transpose()\n",
    "df"
   ]
  },
  {
   "cell_type": "markdown",
   "id": "6d4c30d7",
   "metadata": {},
   "source": [
    "**Choose column [1, 4, 5, 11, 12, 13] and turn into numpy array ``\" x \"``**"
   ]
  },
  {
   "cell_type": "code",
   "execution_count": 17,
   "id": "60a5bd6e",
   "metadata": {},
   "outputs": [
    {
     "name": "stdout",
     "output_type": "stream",
     "text": [
      "(12330, 6)\n"
     ]
    }
   ],
   "source": [
    "x=np.array([online_shoppers_intention.iloc[0][\"Administrative_Duration\"],online_shoppers_intention.iloc[0][\"ProductRelated\"],online_shoppers_intention.iloc[0][\"ProductRelated_Duration\"],online_shoppers_intention.iloc[0][\"OperatingSystems\"],online_shoppers_intention.iloc[0][\"Browser\"],online_shoppers_intention.iloc[0][\"Region\"]])\n",
    "for i in range(1,len(online_shoppers_intention)):\n",
    "    y=np.array([online_shoppers_intention.iloc[i][\"Administrative_Duration\"],online_shoppers_intention.iloc[i][\"ProductRelated\"],online_shoppers_intention.iloc[i][\"ProductRelated_Duration\"],online_shoppers_intention.iloc[i][\"OperatingSystems\"],online_shoppers_intention.iloc[i][\"Browser\"],online_shoppers_intention.iloc[i][\"Region\"]])\n",
    "    x=np.vstack((x,y))\n",
    "print(x.shape)"
   ]
  },
  {
   "cell_type": "code",
   "execution_count": 18,
   "id": "5d9f6587",
   "metadata": {},
   "outputs": [
    {
     "data": {
      "text/plain": [
       "array([[  0.  ,   1.  ,   0.  ,   1.  ,   1.  ,   1.  ],\n",
       "       [  0.  ,   2.  ,  64.  ,   2.  ,   2.  ,   1.  ],\n",
       "       [  0.  ,   1.  ,   0.  ,   4.  ,   1.  ,   9.  ],\n",
       "       ...,\n",
       "       [  0.  ,   6.  , 184.25,   3.  ,   2.  ,   1.  ],\n",
       "       [ 75.  ,  15.  , 346.  ,   2.  ,   2.  ,   3.  ],\n",
       "       [  0.  ,   3.  ,  21.25,   3.  ,   2.  ,   1.  ]])"
      ]
     },
     "execution_count": 18,
     "metadata": {},
     "output_type": "execute_result"
    }
   ],
   "source": [
    "x"
   ]
  },
  {
   "cell_type": "markdown",
   "id": "fb71a422",
   "metadata": {},
   "source": [
    "**Use numpy function to load weight data, bias data and check their shape**"
   ]
  },
  {
   "cell_type": "code",
   "execution_count": 19,
   "id": "3b6134bf",
   "metadata": {},
   "outputs": [],
   "source": [
    "weight_1 = np.load(\"layer_1_weight.npy\")\n",
    "weight_2 = np.load(\"layer_2_weight.npy\")\n",
    "\n",
    "bias_1 = np.load(\"layer_1_bias.npy\")\n",
    "bias_2 = np.load(\"layer_2_bias.npy\")"
   ]
  },
  {
   "cell_type": "code",
   "execution_count": 20,
   "id": "833ce294",
   "metadata": {},
   "outputs": [
    {
     "name": "stdout",
     "output_type": "stream",
     "text": [
      "weight_1 shape: (6, 32)\n",
      "weight_2 shape: (32, 2)\n",
      "\n",
      "bias_1 shape: (32,)\n",
      "bias_2 shape: (2,)\n"
     ]
    }
   ],
   "source": [
    "print('weight_1 shape:', weight_1.shape)\n",
    "print('weight_2 shape:',weight_2.shape )\n",
    "print('')\n",
    "print('bias_1 shape:', bias_1.shape)\n",
    "print('bias_2 shape:', bias_2.shape)"
   ]
  },
  {
   "cell_type": "markdown",
   "id": "b0e36456",
   "metadata": {},
   "source": [
    "**Use numpy function to compute `\" x \"` and weight_1 matrix multiplication, and check the shape**"
   ]
  },
  {
   "cell_type": "code",
   "execution_count": 21,
   "id": "199e5a01",
   "metadata": {},
   "outputs": [
    {
     "data": {
      "text/plain": [
       "(12330, 32)"
      ]
     },
     "execution_count": 21,
     "metadata": {},
     "output_type": "execute_result"
    }
   ],
   "source": [
    "x = np.matmul(x,weight_1)\n",
    "x.shape"
   ]
  },
  {
   "cell_type": "markdown",
   "id": "8fc8eb26",
   "metadata": {},
   "source": [
    "**Use numpy function to compute `\" x \"` and bias_1 matrix addtion, and check the shape**"
   ]
  },
  {
   "cell_type": "code",
   "execution_count": 22,
   "id": "ee6aebc0",
   "metadata": {},
   "outputs": [
    {
     "data": {
      "text/plain": [
       "(12330, 32)"
      ]
     },
     "execution_count": 22,
     "metadata": {},
     "output_type": "execute_result"
    }
   ],
   "source": [
    "x = np.add(x,bias_1)\n",
    "x.shape"
   ]
  },
  {
   "cell_type": "markdown",
   "id": "dd497420",
   "metadata": {},
   "source": [
    "**Use numpy function to compute `\" x \"` and weight_2 matrix multiplication, and check the shape**"
   ]
  },
  {
   "cell_type": "code",
   "execution_count": 23,
   "id": "1125b876",
   "metadata": {},
   "outputs": [
    {
     "data": {
      "text/plain": [
       "(12330, 2)"
      ]
     },
     "execution_count": 23,
     "metadata": {},
     "output_type": "execute_result"
    }
   ],
   "source": [
    "x = np.matmul(x,weight_2)\n",
    "x.shape"
   ]
  },
  {
   "cell_type": "markdown",
   "id": "edceca0a",
   "metadata": {},
   "source": [
    "**Use numpy function to compute `\" x \"` and bias_2 matrix addtion, and check the shape**"
   ]
  },
  {
   "cell_type": "code",
   "execution_count": 24,
   "id": "313340ee",
   "metadata": {},
   "outputs": [
    {
     "data": {
      "text/plain": [
       "(12330, 2)"
      ]
     },
     "execution_count": 24,
     "metadata": {},
     "output_type": "execute_result"
    }
   ],
   "source": [
    "x = np.add(x,bias_2)\n",
    "x.shape"
   ]
  },
  {
   "cell_type": "markdown",
   "id": "21801bde",
   "metadata": {},
   "source": [
    "**Check if your x is same as below**"
   ]
  },
  {
   "cell_type": "code",
   "execution_count": 25,
   "id": "a31a7e3f",
   "metadata": {},
   "outputs": [
    {
     "data": {
      "text/plain": [
       "array([[ -0.42815397,  -0.58708018],\n",
       "       [ 17.76804854, -12.0093477 ],\n",
       "       [ -1.07327452,  -3.72237766],\n",
       "       ...,\n",
       "       [ 51.70654464, -34.08445513],\n",
       "       [110.52965928, -73.95802223],\n",
       "       [  5.45892153,  -4.42243782]])"
      ]
     },
     "execution_count": 25,
     "metadata": {},
     "output_type": "execute_result"
    }
   ],
   "source": [
    "x"
   ]
  },
  {
   "cell_type": "markdown",
   "id": "f509278b",
   "metadata": {},
   "source": [
    "**Use numpy function to find out each row which one value is bigger, and save it as `\" pre \"`**"
   ]
  },
  {
   "cell_type": "code",
   "execution_count": 42,
   "id": "c454cb92",
   "metadata": {},
   "outputs": [
    {
     "data": {
      "text/plain": [
       "array([0, 0, 0, ..., 0, 0, 0], dtype=int32)"
      ]
     },
     "execution_count": 42,
     "metadata": {},
     "output_type": "execute_result"
    }
   ],
   "source": [
    "pre=np.where(x[0]==x[0].max())\n",
    "for i in range(1,len(x)):\n",
    "    pre1=np.where(x[i]==x[i].max())\n",
    "    pre=np.append(pre,pre1)\n",
    "pre"
   ]
  },
  {
   "cell_type": "markdown",
   "id": "39385681",
   "metadata": {},
   "source": [
    "**Use numpy function to check if `pre[i]` is the same as `label[i]`, and save it as `\" check \"`**"
   ]
  },
  {
   "cell_type": "code",
   "execution_count": 48,
   "id": "82fd77c0",
   "metadata": {},
   "outputs": [
    {
     "data": {
      "text/plain": [
       "array([1, 1, 1, ..., 1, 1, 1])"
      ]
     },
     "execution_count": 48,
     "metadata": {},
     "output_type": "execute_result"
    }
   ],
   "source": [
    "compare=list(pre==label)\n",
    "check_list=[]\n",
    "for i in compare:\n",
    "    if i ==True:\n",
    "        check_list.append(1)\n",
    "    elif i==False:\n",
    "        check_list.append(0)\n",
    "check = np.array(check_list)\n",
    "check"
   ]
  },
  {
   "cell_type": "markdown",
   "id": "1a0674c0",
   "metadata": {},
   "source": [
    "**Use numpy function to calculate the accuracy**"
   ]
  },
  {
   "cell_type": "code",
   "execution_count": 50,
   "id": "2bfeabd9",
   "metadata": {},
   "outputs": [
    {
     "name": "stdout",
     "output_type": "stream",
     "text": [
      "accuracy: [0.82846715]\n"
     ]
    }
   ],
   "source": [
    "accuracy=check.sum()/check.shape\n",
    "print('accuracy:',accuracy)"
   ]
  }
 ],
 "metadata": {
  "kernelspec": {
   "display_name": "Python 3 (ipykernel)",
   "language": "python",
   "name": "python3"
  },
  "language_info": {
   "codemirror_mode": {
    "name": "ipython",
    "version": 3
   },
   "file_extension": ".py",
   "mimetype": "text/x-python",
   "name": "python",
   "nbconvert_exporter": "python",
   "pygments_lexer": "ipython3",
   "version": "3.8.7"
  }
 },
 "nbformat": 4,
 "nbformat_minor": 5
}
