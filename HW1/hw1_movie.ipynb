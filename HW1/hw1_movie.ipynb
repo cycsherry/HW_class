{
 "cells": [
  {
   "cell_type": "code",
   "execution_count": 1,
   "id": "9aa4523a",
   "metadata": {},
   "outputs": [],
   "source": [
    "import pandas as pd\n",
    "df=pd.read_csv(\"IMDB-Movie-Data.csv\")"
   ]
  },
  {
   "cell_type": "code",
   "execution_count": 1,
   "id": "ca3d9ff7",
   "metadata": {},
   "outputs": [
    {
     "name": "stdout",
     "output_type": "stream",
     "text": [
      "Top‐3 movies with the highest ratings in 2016?\n",
      "2             Dangal\n",
      "4      Kimi no na wa\n",
      "15    Koe no katachi\n",
      "Name: Title, dtype: object\n"
     ]
    }
   ],
   "source": [
    "df_rating=df[df[\"Year\"]==2016].sort_values(by=\"Rating\",ascending=False)\n",
    "print(\"Top‐3 movies with the highest ratings in 2016?\")\n",
    "print(df_rating[\"Title\"].head(3))"
   ]
  },
  {
   "cell_type": "code",
   "execution_count": 53,
   "id": "5bdf8540",
   "metadata": {},
   "outputs": [
    {
     "name": "stdout",
     "output_type": "stream",
     "text": [
      "The actor generating the highest average revenue?\n",
      "John Boyega     936.63\n",
      "Daisy Ridley    936.63\n",
      "dtype: float64\n"
     ]
    }
   ],
   "source": [
    "list_actor=[]\n",
    "revenue=[]\n",
    "for l in range(len(df)):\n",
    "    actor1=str(df.iloc[l][\"Actors\"]).split(\"|\")\n",
    "    for i in actor1:\n",
    "        if df.iloc[l][\"Revenue (Millions)\"] != \"\":\n",
    "            list_actor.append(i.lstrip())\n",
    "            revenue.append(float(df.iloc[l][\"Revenue (Millions)\"]))\n",
    "        elif df.iloc[l][\"Revenue (Millions)\"] ==\"\":\n",
    "            list_actor.append(i.lstrip())\n",
    "            revenue.append(0)\n",
    "df_aandr=pd.Series(revenue,index=list_actor)\n",
    "df_aandrg=df_aandr.groupby(by=list_actor).mean()\n",
    "df_aandrd=df_aandrg.dropna()\n",
    "df_aandrf=df_aandrd.sort_values(ascending=False)\n",
    "print(\"The actor generating the highest average revenue?\")\n",
    "print(df_aandrf.head(2))"
   ]
  },
  {
   "cell_type": "code",
   "execution_count": 23,
   "id": "a5036605",
   "metadata": {},
   "outputs": [
    {
     "name": "stdout",
     "output_type": "stream",
     "text": [
      "The average rating of Emma Watson's movies?\n",
      "7.175000000000001\n"
     ]
    }
   ],
   "source": [
    "rating=[]\n",
    "for l in range(len(df)):\n",
    "    actor1=str(df.iloc[l][\"Actors\"]).split(\"|\")\n",
    "    list2=[]\n",
    "    for i in actor1:\n",
    "        actor=i.lstrip()\n",
    "        list2.append(actor)\n",
    "    if \"Emma Watson\" in list2:\n",
    "        rating.append(float(df.iloc[l][\"Rating\"]))\n",
    "df_emma=pd.Series(rating)\n",
    "print(\"The average rating of Emma Watson's movies?\")\n",
    "print(df_emma.mean())\n",
    "\n",
    "\n",
    "    "
   ]
  },
  {
   "cell_type": "code",
   "execution_count": 75,
   "id": "3cbf935e",
   "metadata": {},
   "outputs": [
    {
     "name": "stdout",
     "output_type": "stream",
     "text": [
      "Top‐3 directors who collaborate with the most actors?\n",
      "Director\n",
      "Ridley Scott          28\n",
      "M. Night Shyamalan    24\n",
      "Paul W.S. Anderson    20\n",
      "dtype: int64\n"
     ]
    }
   ],
   "source": [
    "df_danda=pd.DataFrame(columns=[\"Director\",\"Actor\"])\n",
    "for l in range(len(df)):\n",
    "    actor=[]\n",
    "    actor1=str(df.iloc[l][\"Actors\"]).split(\"|\")\n",
    "    for i in actor1:\n",
    "        df_danda=df_danda.append({\"Director\":df.iloc[l][\"Director\"],\"Actor\": i.lstrip()},ignore_index=True)\n",
    "df_dand=df_danda.drop_duplicates()\n",
    "df_d=df_dand.groupby(by=\"Director\").size()\n",
    "df_df=df_d.sort_values(ascending=False)\n",
    "print(\"Top‐3 directors who collaborate with the most actors?\")\n",
    "print(df_df.head(4))       "
   ]
  },
  {
   "cell_type": "code",
   "execution_count": 31,
   "id": "7d065988",
   "metadata": {},
   "outputs": [
    {
     "name": "stdout",
     "output_type": "stream",
     "text": [
      "Top‐2 actors playing in the most genres of movies?\n",
      "Actor\n",
      "Brad Pitt             14\n",
      "Hugh Jackman          13\n",
      "Scarlett Johansson    13\n",
      "Chloe Grace Moretz    13\n",
      "Amy Adams             13\n",
      "Johnny Depp           13\n",
      "dtype: int64\n"
     ]
    }
   ],
   "source": [
    "df_aandg=pd.DataFrame(columns=[\"Actor\",\"Genres\"])\n",
    "for l in range(len(df)):\n",
    "    genre=str(df.iloc[l][\"Genre\"]).split(\"|\")\n",
    "    actor1=str(df.iloc[l][\"Actors\"]).split(\"|\")\n",
    "    for i in actor1:\n",
    "        for k in genre:\n",
    "            df_aandg=df_aandg.append({\"Actor\":i.lstrip(),\"Genres\":k },ignore_index=True)\n",
    "df_aandgd=df_aandg.drop_duplicates()\n",
    "df_a=df_aandgd.groupby(by=\"Actor\").size()\n",
    "df_af=df_a.sort_values(ascending=False)\n",
    "print(\"Top‐2 actors playing in the most genres of movies?\")\n",
    "print(df_af[df_af>=int(df_af[1])])"
   ]
  },
  {
   "cell_type": "code",
   "execution_count": 2,
   "id": "55afca72",
   "metadata": {},
   "outputs": [
    {
     "name": "stdout",
     "output_type": "stream",
     "text": [
      "                        max   min\n",
      "Actor                            \n",
      "50 Cent                2013  2013\n",
      "?lafur Darri ?lafsson  2015  2015\n",
      "?scar Jaenada          2016  2016\n",
      "A.C. Peterson          2016  2016\n",
      "AJ Michalka            2011  2011\n",
      "...                     ...   ...\n",
      "Zoe Kazan              2013  2013\n",
      "Zoe Kravitz            2016  2015\n",
      "Zoe Saldana            2016  2009\n",
      "Zoey Deutch            2016  2014\n",
      "Zooey Deschanel        2016  2007\n",
      "\n",
      "[1985 rows x 2 columns]\n",
      "Top‐3 actors whose movies lead to the largest maximum gap of years?\n",
      "Actor\n",
      "Jennifer Aniston       10\n",
      "Toni Collette          10\n",
      "Ben Kingsley           10\n",
      "Tom Cruise             10\n",
      "Tom Hanks              10\n",
      "Ben Whishaw            10\n",
      "Ellen Burstyn          10\n",
      "Johnny Depp            10\n",
      "Bob Balaban            10\n",
      "Paula Patton           10\n",
      "Brad Pitt              10\n",
      "Morgan Freeman         10\n",
      "Gerard Butler          10\n",
      "Michelle Monaghan      10\n",
      "Judi Dench             10\n",
      "Justin Theroux         10\n",
      "Owen Wilson            10\n",
      "Jessica Biel           10\n",
      "Emily Blunt            10\n",
      "Sacha Baron Cohen      10\n",
      "Steve Carell           10\n",
      "Jack Davenport         10\n",
      "Scarlett Johansson     10\n",
      "Dustin Hoffman         10\n",
      "Samuel L. Jackson      10\n",
      "Anne Hathaway          10\n",
      "Hugh Jackman           10\n",
      "Rachel Weisz           10\n",
      "Russell Crowe          10\n",
      "Dominic West           10\n",
      "Denzel Washington      10\n",
      "Jennifer Connelly      10\n",
      "Audrey Tautou          10\n",
      "Jeremy Irons           10\n",
      "Meryl Streep           10\n",
      "Edward Norton          10\n",
      "Bryce Dallas Howard    10\n",
      "Kate Bosworth          10\n",
      "Luke Wilson            10\n",
      "Abbie Cornish          10\n",
      "Kang-ho Song           10\n",
      "Marion Cotillard       10\n",
      "Chiwetel Ejiofor       10\n",
      "Christopher Plummer    10\n",
      "Will Smith             10\n",
      "Mark Wahlberg          10\n",
      "Kirsten Dunst          10\n",
      "Will Ferrell           10\n",
      "Matt Damon             10\n",
      "Kevin Spacey           10\n",
      "Christian Bale         10\n",
      "Eva Green              10\n",
      "Maya Rudolph           10\n",
      "Name: Gap, dtype: int64\n"
     ]
    }
   ],
   "source": [
    "df_aandy=pd.DataFrame(columns=[\"Actor\",\"Year\"])\n",
    "for l in range(len(df)):\n",
    "    actor1=str(df.iloc[l][\"Actors\"]).split(\"|\")\n",
    "    for i in actor1:\n",
    "        df_aandy=df_aandy.append({\"Actor\":i.lstrip(),\"Year\":df.iloc[l][\"Year\"] },ignore_index=True)\n",
    "df_y=df_aandy.groupby(by=\"Actor\")[\"Year\"].agg([\"max\",\"min\"])\n",
    "df_y[\"Gap\"]=df_y[\"max\"]-df_y[\"min\"]\n",
    "df_yf=df_y.sort_values(\"Gap\",ascending=False)\n",
    "a=df_yf[\"Gap\"].max()\n",
    "print(\"Top‐3 actors whose movies lead to the largest maximum gap of years?\")\n",
    "print(df_yf[\"Gap\"][df_yf[\"Gap\"]==a])"
   ]
  },
  {
   "cell_type": "code",
   "execution_count": 10,
   "id": "2c95e44e",
   "metadata": {},
   "outputs": [
    {
     "name": "stdout",
     "output_type": "stream",
     "text": [
      "Find all actors who collaborate with Johnny Depp in direct and indirect ways\n",
      "{'Harley Quinn Smith', 'Lydia Wilson', 'Orto Ignatiussen', 'Jason Cope', 'Lauren Holly', 'John Travolta', 'Sean Bean', 'Karel Hermanek Jr.', 'Francesc Albiol', 'Laura Linney', 'Nick Frost', 'Emma Thompson', 'T.I.', 'Jeremy Irvine', 'Nicolas Cage', 'Jacki Weaver', 'Jenny Slate', 'Adrien Brody', 'Julie Benz', 'Luke Bracey', 'Willem Dafoe', 'Jack Reynor', 'George Lopez', 'Theo Rossi', 'Dolph Lundgren', 'Olivia DeJonge', 'Michelle Monaghan', 'Jai Courtney', 'Ezra Miller', 'Annabeth Gish', 'Michael Cera', 'Ginnifer Goodwin', 'Vicky Krieps', 'Florence Clery', 'Jason Bateman', 'Harvey Keitel', 'Kenneth Branagh', 'Barkhad Abdirahman', 'Steve Buscemi', 'Billy Burke', 'Rosemarie DeWitt', 'Jennifer Lopez', 'Adrianne Palicki', 'Kenny Wormald', 'Sophie Perry', 'Matthew Morrison', 'Octavia Spencer', 'Michael Sheen', 'Natalie Portman', 'Ken Stott', 'Emma Stone', 'America Ferrera', 'Megan Park', 'Tijuana Ricks', 'Kyle Chandler', 'Lily James', 'Robert Sheehan', 'Adewale Akinnuoye-Agbaje', 'Eva Mendes', 'Julianna Margulies', 'Joseph Gordon-Levitt', 'Kang-ho Song', 'Dave Bautista', 'James Franco', 'Austin Stowell', 'Matt Long', 'Shawn Roberts', 'Scott Adsit', 'Jessica Biel', 'Craig T. Nelson', 'Aidan Gillen', 'Ferdia Walsh-Peelo', 'Mary Elizabeth Winstead', 'Olivia Luccardi', 'Henry Thomas', 'Freddie Highmore', 'Nat Wolff', 'Amara Miller', 'Toni Collette', 'Ben Affleck', 'Jon Daly', 'Lily Rabe', 'Alison Sudol', 'Tye Sheridan', 'Logan Huffman', 'Jacob Tremblay', 'Angelina Jolie', 'Armie Hammer', 'Joel David Moore', 'Rose Leslie', 'Jared Gilman', 'Anthony Hopkins', 'Imogen Poots', 'Karen Disher', 'Eddie Redmayne', 'Rihanna', 'Robert Pattinson', 'Charles Dance', 'Lea Seydoux', 'Edie Falco', 'Duncan Joiner', 'Jessica Lucas', 'Cary-Hiroyuki Tagawa', 'Guillaume Baillargeon', 'Christopher Plummer', 'Michael Douglas', 'Luke Evans', 'Dominic West', 'Jessica Brown Findlay', 'Jon Bernthal', 'Russell Brand', 'Maika Monroe', 'Craig Ferguson', 'Asa Butterfield', 'Suraj Sharma', 'Timothy Olyphant', 'Rhona Mitra', 'Kate Mara', 'Sophie Okonedo', 'Sandra Bullock', 'Kevin Nealon', 'Javier Bardem', 'Mason Lee', 'Anton Yelchin', 'Colin Quinn', 'Gretchen Mol', 'Henry Cavill', 'Vince Vaughn', 'Barkhad Abdi', 'Penelope Wilton', 'Stephen Lang', 'Naomie Harris', 'Jake Johnson', 'Saoirse Ronan', 'Colton Haynes', 'Will Arnett', 'Patrick Stewart', 'CCH Pounder', 'Josh Hartnett', 'Jena Malone', 'Fred Dalton Thompson', 'Kevin Spacey', 'Will Yun Lee', 'J. Todd Smith', 'Denis Leary', 'Lorraine Nicholson', 'Paul Anderson', 'Amy Ryan', 'Rachael Harris', 'Margarita Levieva', \"Ed O'Neill\", 'Astrid Berges-Frisbey', 'Lucas Hedges', 'Jenna Dewan Tatum', 'Jesse Eisenberg', 'Julian Dennison', 'Demi Moore', 'Corey Stoll', 'Natascha McElhone', 'Hugo Weaving', 'Scott Eastwood', 'Ewen Leslie', 'Tim Roth', 'Benjamin Walker', 'Riley Thomas Stewart', 'Thomas Brodie-Sangster', 'Lili Sepe', 'Ice Cube', 'Riz Ahmed', 'Rob Riggle', 'Craig Robinson', 'Jude Law', 'Melissa Benoist', 'Tony Revolori', 'James Frecheville', 'Drew Barrymore', 'Bradley Cooper', 'Richard Jenkins', 'Eric Godon', 'Gabriela Lopez', 'Thomas Middleditch', 'Domhnall Gleeson', 'Christina Hendricks', 'Alessandro Nivola', 'Kelsey Grammer', 'Sullivan Stapleton', 'Gemma Ward', 'Morena Baccarin', 'Blythe Danner', 'Natalie Martinez', 'Dev Patel', 'Brian Dennehy', 'James Floyd', 'Emilia Clarke', 'Yu-mi Jung', 'Nicholas Hoult', 'Kodi Smit-McPhee', 'Robert Redford', 'Kristen Bell', 'Dane DeHaan', 'Rory J. Saper', 'Selena Gomez', 'Marie Gruber', 'Essie Davis', 'Joshua Leonard', 'Max Burkholder', 'Kati Outinen', 'Robin Williams', 'Devon Bostick', 'Alexandra Maria Lara', 'Golshifteh Farahani', 'Emilie Leclerc', 'Gabourey Sidibe', \"Fionn O'Shea\", 'Kaya Scodelario', 'James DuMont', 'Su Elliot', 'Lara Pulver', 'Tom Prior', 'Alden Ehrenreich', 'Hermione Corfield', 'Ray Winstone', 'Rory Cochrane', 'Alexander Skarsgard', 'Matt Damon', \"De'Shawn Washington\", 'Carly Rae Jepsen', 'Judi Dench', 'Dana Fuchs', 'Arturo Castro', 'Oakes Fegley', 'Christian Cooke', 'Charlotte Gainsbourg', 'Aidan Turner', 'Jennifer Jason Leigh', 'Kat Dennings', 'Aaron Eckhart', 'Taissa Farmiga', 'Marley Shelton', 'Jorma Taccone', 'Marisa Paredes', 'Mackenzie Foy', 'Dax Shepard', 'Michael McElhatton', 'Naomi Watts', 'Jean Reno', 'Leslie Jones', 'Billy Bob Thornton', 'Morgan Saylor', 'Christoph Waltz', 'Lauren Graham', 'Kiersey Clemons', 'Sam Trammell', 'William Hurt', 'Alan Alda', 'Jack Black', 'Steve Tom', 'Anne Hathaway', 'Brittany Murphy', 'Alan Arkin', 'David Spade', 'Lucas Till', 'Lambert Wilson', \"John D'Leo\", 'Bryce Dallas Howard', 'Joseph Mawle', 'Oona Chaplin', 'Iain Glen', 'Kevin Hart', 'Jessica Lange', 'Oaklee Pendergast', 'Tom Hanks', 'Michael Chiklis', 'F. Murray Abraham', 'Joan Allen', 'Mary Steenburgen', 'Emily Meade', 'Dominique McElligott', 'Jessica Chastain', 'George Clooney', 'Selma Blair', 'Imelda Staunton', 'Anna Friel', 'Chris Rock', 'Joe Cobden', 'Cameron Diaz', 'Bruce Willis', 'Michael Constantine', 'Michiel Huisman', 'Dominic Cooper', 'Megan Charpentier', 'Alexandra Daddario', 'Megan Fox', 'Laura Ramsey', 'Danny Glover', 'Common', 'Jemaine Clement', 'Anya Taylor-Joy', 'Kyra Sedgwick', 'Judah Lewis', 'Josh Lucas', 'Mia Wasikowska', 'Jessica Barden', 'Tao Okamoto', 'Temuera Morrison', 'Alex Pettyfer', 'Ivo Nandi', 'Mae Whitman', 'Alice Eve', 'Laura Dern', 'Louis C.K.', 'Dominique Swain', 'Sienna Guillory', 'Karl Glusman', '?scar Jaenada', 'Sam Shepard', 'Emory Cohen', 'Helena Bonham Carter', 'Famke Janssen', 'Michael Gambon', 'Sasha Lane', 'Zachary Quinto', \"Auli'i Cravalho\", 'Sunny Pawar', 'Rima Te Wiata', 'Jordan Carlos', 'Moon Bloodgood', 'Sally Hawkins', 'Tony Shalhoub', 'Michael Ealy', 'Ni Ni', 'Katy Barker', 'Carey Mulligan', 'Jemima West', 'Tammy Blanchard', 'Dakota Blue Richards', 'Alexander Ludwig', 'Hayden Christensen', 'Jeff Daniels', 'Byung-hun Lee', 'Jane Levy', 'Cori Gonzalez-Macuer', 'Alice Braga', 'Julia Roberts', 'Meryl Streep', 'Israel Broussard', 'Michael C. Hall', 'Paul Giamatti', 'Nadine Velazquez', 'Olivia Thirlby', 'Scott Glenn', 'Gabriel Luna', 'Alan Rickman', 'Laurence Fishburne', 'Jennifer Lawrence', 'Will Smith', 'David Morse', 'Albert Brooks', 'Deanna Dunagan', 'Stephen Henderson', 'David Strathairn', 'Cary Elwes', 'Rufus Sewell', 'Donald Sutherland', 'Mandy Moore', 'Gugu Mbatha-Raw', 'Randy Couture', 'Arnaud Viard', 'Portia Doubleday', 'Bella Heathcote', 'Kevin James', 'Gina Carano', 'Kyle Gallner', 'Hilary Swank', 'Kate Dickie', 'Gerard Butler', 'Paul Bettany', 'Sarah Gadon', 'Peter Facinelli', 'Alex Fisher', 'Ralph Fiennes', 'Jonathan Daniel Brown', 'Kylie Rogers', 'Moises Arias', 'Simon Helberg', 'Maria Doyle Kennedy', 'Maria Bello', 'Mauricio Lopez', 'Jonny Weston', 'Lewis Black', 'Idina Menzel', 'Robin Wright', 'Mel Raido', 'Michael Stuhlbarg', 'Werner Herzog', 'Josh Brolin', 'Linda Cardellini', 'Trey Songz', 'Mateo Arias', 'Hee-Bong Byun', 'Zoe Saldana', 'Jennifer Koenig', 'Rosie Huntington-Whiteley', 'Danny McBride', 'Rupert Friend', 'Chris Isaak', 'Jennifer Garner', 'Tim McGraw', 'Antje Traue', 'Michael Kelly', 'Miles Teller', 'Tracy Letts', 'Michael Pena', 'Michael Keaton', 'Bryan Greenberg', 'Garrett Hedlund', 'Emayatzy Corinealdi', 'Janelle Monae', 'Joe Manganiello', 'Bill Paxton', 'Alfie Allen', \"Jason O'Mara\", 'Emily Blunt', 'Cheryl Hines', 'Bailey Anne Borders', 'Ali Larter', 'Amr Waked', 'Pablo Schreiber', 'Geoffrey Arend', 'Benedict Wong', 'Kelly Reilly', 'Logan Paul', 'Doona Bae', 'Ewa Froling', 'John Turturro', 'Keira Knightley', 'Aryana Engineer', 'Ciaran Hinds', 'Olivia Williams', 'Tom Felton', 'Melissa McCarthy', 'Harry Connick Jr.', 'Terrence Howard', 'Katey Sagal', 'Matthew Macfadyen', 'Robert Knepper', 'Don Cheadle', 'Jim Parsons', 'Penn Badgley', 'Alia Shawkat', 'John Goodman', 'Jodie Foster', \"Zac Mattoon O'Brien\", 'Ansel Elgort', 'Jeff Bridges', 'Brooke Shields', 'Robert Patrick', 'Lia Marie Johnson', 'Kurt Russell', 'Will Dalton', 'Lena Endre', 'Emily Mortimer', 'Miyavi', 'Liam Neeson', 'Sarah Polley', 'Olivia Colman', 'Mark Strong', 'Carla Gugino', 'Jim Carrey', 'Cary Joji Fukunaga', 'Ryan Lee', 'Renee Zellweger', 'Storm Acheche Sahlstrom', 'Raffey Cassidy', 'Gemma Jones', 'Jesse Plemons', 'Jackson Rathbone', 'Akiva Schaffer', 'Sarah Dumont', 'Samantha Isler', 'Aaron Yoo', 'Bill Murray', 'Paula Prentiss', 'Sarita Choudhury', 'Jim Broadbent', 'Rupert Grint', 'Amy Poehler', 'Sam Riley', 'Graham McTavish', \"Dylan O'Brien\", 'Rinko Kikuchi', 'Chris Messina', 'Kit Harington', 'Dale Dickey', 'Brooklyn Decker', 'Jack McBrayer', 'Mohamed Akhzam', 'Jamie Foxx', 'Josef Altin', 'Alfre Woodard', 'Matthew Fox', 'Billy Connolly', 'Tina Fey', 'Michael Caine', 'Harrison Ford', 'Jamie Campbell Bower', 'Paul Newman', 'Gabriel Bateman', 'Clive Owen', 'Edward Norton', 'Josh Duhamel', 'Lynsey Taylor Mackay', 'Jennifer Saunders', 'Lulu Wilson', 'Michael Vartan', 'Sean Faris', 'Jeff Kahn', 'Andrea Whitburn', 'Blake Jenner', 'Isla Fisher', 'Abigail Breslin', 'James Ransone', 'Rachel Weisz', 'Michael B. Jordan', 'Joel Edgerton', 'Zachary Gordon', 'Jamie Blackley', 'Ed Oxenbould', 'Christopher Lee', 'Kathryn Hahn', 'Michael Nyqvist', 'Helen Mirren', 'Justin Timberlake', 'Eddie Murphy', 'Zac Efron', 'Gemma Arterton', 'Alistair Abell', 'Tom Hiddleston', 'Natasha Henstridge', 'Hae-il Park', 'Scott Speedman', 'Jaden Smith', 'Rachel House', 'Annalise Basso', 'John Cullum', 'Joan Cusack', 'Quvenzhane Wallis', 'Thomas Lennon', 'Joel Courtney', 'Daniel Henshall', 'Amanda Peet', 'Robbie Amell', 'Matt Bomer', 'Chadwick Boseman', 'Tania Raymonde', 'Edward Asner', 'Brian Cox', 'Nikolaj Coster-Waldau', 'Olivia Wilde', 'Gabriella Wilde', 'Nathan Fillion', 'Jaime Winstone', 'Brighton Sharbino', 'Aasif Mandvi', 'Richard Gere', 'Lainie Kazan', 'Wendi McLendon-Covey', 'Oscar Isaac', 'Sigourney Weaver', 'Benicio Del Toro', 'Sanjeev Bhaskar', 'Eddie Baroo', 'Jason Isaacs', 'Jordana Brewster', 'Dwayne Johnson', 'Cush Jumbo', 'Dong-seok Ma', 'Emmanuelle Chriqui', 'Tyler Perry', 'Peyton List', 'Seth Rogen', 'Glenn Close', 'Lou Taylor Pucci', '50 Cent', 'Nicole Parker', 'Hugh Laurie', 'Liam Hemsworth', 'John Alexander', 'Wentworth Miller', 'Richard Armitage', 'Armin Mueller-Stahl', 'Andy Powers', 'Ji-min Han', 'Danila Kozlovsky', 'C.H. Evans', 'Reese Witherspoon', 'Kevin Costner', 'Danny Huston', 'Donnie Yen', 'Daniel Radcliffe', 'Luke Kleintank', 'Jake Gyllenhaal', 'Clint Dyer', 'Logan Miller', 'Kim Cattrall', 'Luke Wilson', 'Daniel Day-Lewis', 'Margot Robbie', 'Jeffrey Dean Morgan', 'Paul Rudd', 'Jason Barry', 'Riccardo Scamarcio', 'Lior Ashkenazi', 'Sacha Baron Cohen', 'Woody Allen', 'Eddie Izzard', 'Hugh Jackman', 'Samantha Morton', 'Andreas Wisniewski', 'Alex Essoe', 'Ben Whishaw', 'Christopher McDonald', 'Isabel Lucas', 'Evan Rachel Wood', 'Simon Pegg', 'Ted Levine', 'John Leguizamo', 'Sam Rockwell', 'Oliver Platt', 'Joey Lauren Adams', 'Scarlett Johansson', 'Maggie Gyllenhaal', 'Heath Ledger', 'Isabelle Fuhrman', 'Brendan Fraser', 'Freddy Rodriguez', 'Fran Kranz', 'Teyonah Parris', 'Amanda Bynes', 'Rose McGowan', 'Charlie Hunnam', 'Elizabeth Banks', 'Aaron Paul', 'Jon Hamm', 'Daniella Kertesz', 'Rizwan Manji', 'Lin Shaye', 'Gabriel Basso', 'Ewan McGregor', 'Addison Timlin', 'Freida Pinto', 'Jennifer Connelly', 'Ken Watanabe', 'Oprah Winfrey', 'John Hurt', 'Caitlyn Rund', 'Emma Greenwell', 'Christian Stolte', 'Leehom Wang', 'Taylor Schilling', 'Shea Adams', 'Dakota Fanning', 'Christian Bale', 'Maggie Grace', 'Kevin McKidd', 'Lisa Kudrow', 'Billy Crystal', 'Michael Trucco', 'Anders Danielsen Lie', 'Jon Favreau', 'Brian Marc', 'Matthias Schoenaerts', 'Kara Hayward', 'Teri Hatcher', 'John Malkovich', 'Tom Mison', 'Quinton Aaron', 'Josh Stewart', 'Christopher Fitzgerald', 'Kristin Davis', 'Malcolm Sinclair', 'Keri Russell', 'Ariel Levy', 'Frank Langella', 'Charlotte Le Bon', 'Steele Stebbins', 'Dan Fogler', 'Kieran Culkin', 'Ellen Page', 'Duan Sanderson', 'Clifton Collins Jr.', 'Malin Akerman', 'Neil Patrick Harris', 'Jason Sudeikis', 'Nazanin Boniadi', 'John Carroll Lynch', 'Vanessa Ferlito', 'Karen Moskow', 'Alex R. Hibbert', 'Rachel Korine', 'Jessica Alba', 'Vincent Kartheiser', 'Adria Arjona', 'Jonny Brugh', 'Tobias Menzies', 'Stephen Moyer', 'Dennis Quaid', 'Vanessa Hudgens', 'Valerie Mahaffey', 'Min-sik Choi', 'Vernetta Lopez', 'Tangie Ambrose', 'Kerry Washington', 'Kristin Chenoweth', 'Joely Richardson', 'Lili Taylor', 'Ray Stevenson', 'Dakota Johnson', 'Felicity Jones', 'Mickey Rourke', 'Shad Moss', 'Matthew Marsden', 'Tom Wilkinson', 'Max Minghella', 'Bruce Greenwood', 'Taylor Swift', 'Nicholas Braun', 'Travis Tope', 'Duncan Duff', 'Kate Upton', 'Brit Marling', 'Joe Alwyn', 'Bob Balaban', 'Julianne Moore', 'Emma Fitzpatrick', 'Tyler James Williams', 'Pierce Brosnan', 'Rila Fukushima', 'Ralph Ineson', 'Dominique Tipper', 'Annette Bening', 'Julia Stiles', 'Philip Seymour Hoffman', 'Dougie McConnell', 'Carmen Ejogo', 'Momo Dione', 'Robert Capron', 'Cillian Murphy', 'Jennifer Ehle', 'Albert Finney', 'Ben Stiller', 'Antonio Banderas', 'Luing Andrews', 'Daniel Gimenez Cacho', 'Leland Orser', 'John Boyega', 'Judy Davis', 'Charlie Cox', 'Saurabh Shukla', \"Vincent D'Onofrio\", 'Kate Siegel', 'Hunter McCracken', 'Alexis Dziena', 'Brendan Gleeson', 'Sarah Snook', 'Woody Harrelson', 'Elisabeth Shue', 'T.R. Knight', 'Djimon Hounsou', 'Max von Sydow', 'Benedict Cumberbatch', 'Anna Camp', 'Tim Allen', 'Craig Van Hook', 'Xavier Samuel', 'Marton Csokas', 'Michael Shannon', 'Salma Hayek', 'Dustin Hoffman', 'Stephen Merchant', 'Timothy Spall', 'Iris Apatow', 'Logan Marshall-Green', 'Derek Luke', 'James Hamrick', 'Isabella Rossellini', 'Kate Winslet', 'Mark Chao', 'Nathalie Boltt', 'Elizabeth Reaser', 'Shariff Earp', 'Skyler Gisondo', 'Zoey Deutch', 'Jan Cornet', 'Lisa Thoreson', 'Viggo Mortensen', 'Ben Foster', 'Colm Meaney', 'Max Greenfield', 'Keir Gilchrist', 'Isabelle Nelisse', 'Jessie Ok Gray', 'Ashton Kutcher', 'Robert De Niro', 'Hugh Grant', 'Ella Anderson', 'Tony Goldwyn', 'Jeff Goldblum', 'Trenton Rogers', 'Antonio Tarver', 'Bel Powley', 'Kate Hudson', 'Scott Mescudi', 'Elijah Smith', 'Jim Caviezel', 'Jackie Chan', 'Zooey Deschanel', 'Ronnie Gene Blevins', 'Chris Pine', 'Alfred Molina', 'Maria Dizzia', 'Stephen Rea', 'Brie Larson', 'Paddy Considine', 'Aiden Longworth', 'Mark Ruffalo', 'Max Irons', 'Teresa Palmer', 'Dean Norris', 'Shia LaBeouf', 'Madeleine West', 'Keith Carradine', 'Taron Egerton', 'Laura Allen', 'Noel Fisher', 'Richenda Carey', 'Jonathan Rhys Meyers', 'Alec Baldwin', 'Gerry Bednob', 'Emilie de Ravin', 'Andy Serkis', 'Chris Wedge', 'Linda Gegusch', 'Will Poulter', 'Lesley Manville', 'Kiefer Sutherland', 'Paula Beer', 'Dax Flame', 'Ty Simpkins', 'Max Martini', 'Lucas Black', 'Julia Ormond', 'Ashley Benson', 'Lucy Liu', 'Michael Parks', 'Taika Waititi', 'Nick Offerman', 'Karl Urban', 'Madison Wolfe', 'Zoe Bell', 'Milla Jovovich', 'Russell Crowe', 'Rachel Blanchard', 'Art Parkinson', 'Sharlto Copley', 'Jamal Woolard', 'John Ratzenberger', 'Jennifer Aniston', 'Vincent Ebrahim', 'Michelle Pfeiffer', 'Annie Rose Buckley', 'Ryan Guzman', 'Keanu Reeves', 'Paul Dano', 'Jeffrey Wright', 'Bonnie Hunt', 'Mahershala Ali', 'Amy Schumer', 'Florence Kastriner', 'Annabelle Wallis', 'Lucy Fry', 'Til Schweiger', 'Salim Kechiouche', 'Sean Bridgers', 'Connie Nielsen', 'Paul Walker', 'Bella Thorne', 'Deborah Kara Unger', 'Terence Stamp', 'Andy Samberg', 'Aldis Hodge', 'Ophelia Lovibond', 'Sarah Paulson', 'Ving Rhames', 'Jason Statham', 'Guy Pearce', 'Elizabeth Debicki', 'Laurie Holden', 'Anna Kendrick', \"Jerry O'Connell\", 'Miranda Cosgrove', 'Diego Boneta', 'Tom Hardy', 'Anthony LaPaglia', 'Antonia Ribero', 'Donna Murphy', 'John Cusack', 'Matt Lanter', 'Kimberly Elise', 'Michelle Rodriguez', 'Danny Sapani', 'Adam Driver', 'Harold Perrineau', 'Brenton Thwaites', 'Sarah Clarke', 'Jenna Elfman', 'Brian Caspe', \"Mo'Nique\", \"Lupita Nyong'o\", 'Zachary Levi', 'Johnny Depp', 'Thomas M. Wright', 'Nicholas Galitzine', 'Danny Trejo', 'Madina Nalwanga', 'Jonah Hill', 'Sue Dahlman', 'Ellen Burstyn', 'Julie Andrews', 'Adam Sandler', 'Blake Lively', 'Zach Grenier', 'Kevin Kline', 'Mireille Enos', 'Karolina Gruszka', 'Jennifer Morrison', 'Anthony Anderson', 'Mark Wahlberg', 'Haley Joel Osment', 'Irrfan Khan', 'Aidan Quinn', 'Angourie Rice', 'Garrett M. Brown', 'Logan Lerman', 'Tilda Swinton', 'Joey Morgan', 'Brenda Blethyn', 'Oona Laurence', \"Sofia Black-D'Elia\", 'Elena Anaya', 'Jamie Bell', 'Mary-Louise Parker', 'Keith David', 'Eva Green', 'Jim Sturgess', 'Dan Stevens', 'Jeremy McWilliams', 'David James', 'Ethan Suplee', 'Tyler Hoechlin', 'Olga Kurylenko', 'Rasmus Hardiker', 'Bill Pullman', 'Neel Sethi', 'Jake Abel', 'Leonard Nimoy', 'Jonathan Roumie', 'Michael Fassbender', 'Lynn Collins', 'Rosamund Pike', 'Dermot Mulroney', 'Miles Heizer', 'Taylor Lautner', 'Josh Brener', 'Patrick Wilson', 'Chris Hemsworth', 'Ian McKellen', 'Ruth Wilson', 'Eloise Mumford', 'Daniel Olbrychski', 'Dan Byrd', 'Daniel Craig', 'Joel Kinnaman', 'Geoffrey Rush', 'Kim Coates', 'Lewis MacDougall', 'Larry the Cable Guy', 'Mathieu Amalric', 'Rebel Wilson', 'Ron Livingston', 'Evangeline Lilly', 'Derek Jacobi', 'Ben Winchell', 'Thomas Mann', 'Casey Affleck', 'Jasmine Trinca', 'Diane Kruger', 'Nicole Beharie', 'Kirsten Dunst', 'Michael Yare', 'Joel McHale', 'John C. Reilly', '?lafur Darri ?lafsson', 'Sylvia Hoeks', 'Allison Tolman', 'Jamie Dornan', 'Douglas M. Griffin', 'Kelly Adams', 'Channing Tatum', 'Christopher Mintz-Plasse', 'Nathan Phillips', 'Ari Graynor', 'Eric Stonestreet', 'Sonoya Mizuno', 'Wendy Crewson', 'Rodrigo Santoro', 'Kristen Connolly', 'Ike Barinholtz', 'Robert Carlyle', 'David Lyons', 'Jason Schwartzman', 'Christopher Walken', 'Allison Janney', 'Steve Wiebe', 'Sean Penn', 'Anika Noni Rose', 'Gwyneth Paltrow', 'Aomi Muyock', 'Burt Young', 'Zoe Kazan', 'Leonardo DiCaprio', 'Kiernan Shipka', 'James Gandolfini', 'Matthew Zuk', 'Colin Hanks', 'Maddie Ziegler', 'David Harbour', 'Steve Lantz', 'Damien Marzette', 'Sarah Jessica Parker', 'Andrew Simpson', 'Radha Mitchell', 'Andrea Riseborough', 'Alain Moussi', 'Jo Hartley', 'Lake Bell', 'Janet McTeer', 'Bokeem Woodbine', 'Maggie Q', 'Andie MacDowell', 'Vera Farmiga', 'Michael McDonald', 'Morgan Freeman', 'Linh Dan Pham', 'Olivia Munn', 'Ron Perlman', 'Kathy Baker', 'Michelle Williams', 'Kathleen Quinlan', 'Adrian Martinez', 'Adrian Grenier', 'Billy Crudup', 'David Wenham', 'Adil Hussain', 'Chris Evans', 'Kristin Scott Thomas', 'Sam Elliott', 'Melanie Laurent', 'David Acord', 'Queen Latifah', 'Hayley Atwell', 'Arnold Schwarzenegger', 'Ryan Potter', 'John Hawkes', 'Ashlyn Sanchez', 'Moe Dunford', 'Juan Saavedra', 'Kathy Bates', 'Jeremy Irons', 'Steven Mackintosh', 'Jasper Newell', 'Tommy Lee Jones', 'Jerry Ferrara', 'Lena Headey', 'Adam Brody', 'Maude Apatow', 'Katee Sackhoff', 'Freddie Crowder', 'Eddie Marsan', 'Marcia Gay Harden', 'Hayden Panettiere', 'Benjamin Bratt', 'Charles S. Dutton', 'Nick Swardson', 'Isaiah Stone', 'Jack Madigan', 'Anna Faris', 'RJ Cyler', 'Kai Ryssdal', 'Giovanni Ribisi', 'Viola Davis', 'Scott Lawrence', 'Rhys Ifans', 'Jared Harris', 'Tom Costello', 'Salli Richardson-Whitfield', 'Sebastian Stan', 'Vinnie Jones', 'Patrick Dempsey', 'Cara Buono', 'Bruno Campos', 'Johnny Simmons', 'Sean Patrick Thomas', 'Ben Walker', 'Bruce Boxleitner', 'Dylan Minnette', 'Brad Pitt', \"Frances O'Connor\", 'Toby Kebbell', 'Diane Lane', 'Brett Cullen', 'Steve Martin', 'Nina Dobrev', 'Josh Gad', 'Kevin Connolly', 'Klara Kristin', 'Rachel Bilson', 'Emily Browning', 'Bill Nighy', 'Adam Pally', 'Sean Bott', 'Cynthia Nixon', 'Nicole Kidman', 'Rooney Mara', 'Kevin Bacon', 'Sam Claflin', 'Jason Flemyng', 'Jordi Moll?', 'Michael Kenneth Williams', 'Amber Heard', 'Hayley McElhinney', 'Demian Bichir', 'Patricia Arquette', 'Morgan Lily', 'Will Ferrell', 'Mariah Carey', 'Julie Walters', 'Dean Mumford', \"Beverly D'Angelo\", 'Rosario Dawson', 'Ella Rumpf', 'Sandra Kinder', 'Christina Applegate', 'James Marsden', 'Elisabeth Moss', 'Stellan Skarsgard', 'Jackie Earle Haley', 'Michael Mantell', 'Jared Leto', 'Lily Collins', 'Gabriel Chavarria', 'Josh Peck', 'Rabah Nait Oufella', 'Phylicia Rashad', 'Seth MacFarlane', 'Martin Henderson', 'Kelly Macdonald', 'Callum Keith Rennie', 'Tony Amendola', 'Alison Pill', 'Sigrid Bouaziz', 'David Denman', 'Stacy Martin', 'Angelo Josue Lozano Corzo', 'Audrey Tautou', 'Topher Grace', 'Barry Ward', 'George MacKay', 'Dave Franco', 'John Doman', 'Paul Reiser', 'Chris Pratt', 'Noah Taylor', 'Amber Tamblyn', 'Daniel Eric Gold', 'Anthony Edwards', 'Ernst Stotzner', 'William Fichtner', 'Ana de Armas', 'Gael Garcia Bernal', 'Shailene Woodley', 'Paula Patton', 'Rachel McAdams', 'Liv Tyler', 'Daisy Ridley', 'Jerry Stiller', 'Emily Ratajkowski', 'Peter Dinklage', 'Lorraine Toussaint', 'Cara Delevingne', 'Amanda Seyfried', 'Rachel Wood', 'Tabu', 'Halle Berry', 'Steven Yeun', 'Kristen Stewart', 'Michelle Yeoh', 'Carrie-Anne Moss', 'Jovan Adepo', 'Andrew Garfield', 'Winona Ryder', 'Zoe Kravitz', 'Nicola Peltz', 'Charlie Heaton', 'Christian Stevens', 'Kate Bosworth', 'Karin Konoval', 'Catherine Keener', 'Tom Cullen', 'Michael Pitt', 'Mia Stallard', 'Ian McShane', 'Zachary Bennett', 'Jet Li', 'Colin Farrell', 'Aaron Taylor-Johnson', 'Nathalie Baye', 'Alexis Clagett', 'Brian Geraghty', 'T.J. Miller', 'Jean-Claude Van Damme', 'Jason Clarke', 'Rose Byrne', 'Analeigh Tipton', 'Greta Gerwig', 'Wei Tang', 'Anders Holm', 'Alison Brie', 'Faith Wladyka', 'Sophie Nelisse', 'Nicholas Hope', 'Terry Crews', 'Hans Matheson', 'Cate Blanchett', \"Jack O'Connell\", 'Kristen Wiig', 'Jae Head', 'Nia Vardalos', 'Sally Field', 'Christopher Evan Welch', 'Aubrey Plaza', 'Alexander Black', 'Emile Hirsch', 'Tom Hughes', 'Edgar Ramirez', 'Jalil Lespert', 'Usher Raymond', 'Tom Sizemore', 'Justin Bartha', 'Ward Horton', 'Callan McAuliffe', 'Kurt Fuller', 'Robert Downey Jr.', 'Thandie Newton', 'Andre Braugher', 'Crispin Glover', 'John Gallagher Jr.', 'Steve Zahn', 'Jeremy Davies', 'Regina Hall', 'Alicia Vikander', 'Robert Duvall', 'Genesis Rodriguez', 'Katie Holmes', 'Damon Wayans Jr.', 'Michael Dickson', 'Jack Huston', 'Samantha Sloyan', 'AnnaSophia Robb', 'Juliet Rylance', 'Colm Feore', 'Sam Neill', 'Owen Wilson', 'Moises Acevedo', 'Rebecca Ferguson', 'Zachery Ty Bryan', 'Ruby Barnhill', 'Ruth Negga', 'Orlando Bloom', 'Claire Danes', 'Vanessa Lachey', 'Andrew Scott', 'Alice Englert', 'Diego Luna', 'January Jones', 'Elizabeth Olsen', 'Adelaide Kane', 'Julian Barratt', 'Allen Leech', 'Jack Nicholson', 'Peter Stormare', 'Lucy Walters', 'Maya Rudolph', 'Chloe Sevigny', 'Sienna Miller', 'Bill Engvall', 'Lizzy Caplan', 'Jane Fonda', 'Rainn Wilson', 'Victoria Justice', 'Lily Cole', 'Justin Theroux', 'Penelope Cruz', 'Jane Lynch', 'Danielle Nicolet', 'Steve Carell', 'Cam Gigandet', 'Martin Freeman', 'Nikki Blonsky', 'Joseph Fiennes', 'Justice Smith', 'Mike Vogel', 'Val Kilmer', 'Gil Birmingham', 'Chris Cooper', 'Richard Dreyfuss', 'Liev Schreiber', 'Don Thompson', 'Paul Birchard', 'India Eisley', 'Nick Robinson', 'Tim Blake Nelson', 'Boyd Holbrook', 'Mia Goth', 'Ang Phula Sherpa', 'Matthew McConaughey', 'Adele Exarchopoulos', 'Emma Roberts', 'James McAvoy', 'Charlie Day', 'Rosie Shaw', 'Bill Hader', 'Andy Lau', 'Levi Miller', 'Jonathan Groff', 'Gary Oldman', 'Brandon T. Jackson', 'Melissa Leo', 'Sarah Silverman', 'Greg Kinnear', 'Laurent Lucas', 'Tom Cruise', 'Nick Nolte', 'Daniel Bruhl', 'John Corbett', 'Bree Turner', 'Lois van Wijk', 'Eli Roth', 'Christian Distefano', 'Sam Worthington', 'Toby Jones', 'Mindy Kaling', 'Brittany Snow', 'Lorenza Izzo', 'Camille Cottin', 'Andy Garcia', 'Lily-Rose Depp', 'Dakota Goyo', 'Peter McRobbie', 'AJ Michalka', 'Martin Kabanza', 'Charlize Theron', 'Mila Kunis', 'Samuel L. Jackson', 'Brandon Routh', 'Frank Madigan', 'Tyne Daly', 'Garance Marillier', 'Ben Barnes', 'Adam Levine', 'Ben Kingsley', 'Wenwen Han', 'Ray Romano', 'Sarah Roemer', 'Martin Stringer', 'J.K. Simmons', 'Emma Watson', 'Mel Gibson', 'Ryan Reynolds', 'Bryan Cranston', 'Kevin Dillon', 'Rob Corddry', 'Damaine Radcliff', 'Justin Long', 'Bridgette Barrett', 'Matthew Goode', 'Doug Jones', 'John Krasinski', 'Kagiso Kuypers', 'Aaron Burns', 'Joe Anderson', 'Lars Eidinger', 'Brian Howe', 'Gal Gadot', 'Dane Cook', 'Jamie Chung', 'David Oyelowo', 'Kate McKinnon', 'Idris Elba', 'Susan Sarandon', 'Anil Kapoor', 'Richard Madden', 'Noah Ringer', 'Mira Sorvino', 'Daniel Zovatto', 'Leslie Mann', 'Tobey Maguire', 'Judy Greer', 'Katie Crown', 'Colin Firth', 'Gregg Weiner', 'Derek Jeter', 'Dianna Agron', 'Adam Devine', 'Charlie Tahan', 'Ellie Kemper', 'Gattlin Griffith', 'Pierre Niney', 'Haley Bennett', 'Jordan Nagai', 'Chloe Grace Moretz', 'Cole Konis', 'Barry Pepper', 'John Hodgman', 'Wes Bentley', 'Ethan Hawke', 'Jeremy Renner', 'Amy Adams', 'Chatchawai Kamonsakpitak', 'Jon Voight', 'Forest Whitaker', 'Mary McCormack', 'Theo James', 'Jack Davenport', 'Kerry Bishe', 'Gabriel Byrne', 'Steve Coogan', 'Lucy Boynton', 'Jason Segel', 'Carmen Electra', 'Stephen Dorff', 'Rachael Blake', 'Giancarlo Esposito', 'Karen Allen', 'Rip Torn', 'Gary Cole', 'Riley Keough', 'Danny DeVito', 'Joaquin Phoenix', 'John C. McGinley', 'Nick Krause', 'Shiloh Fernandez', 'Ed Skrein', 'Ryoko Seta', 'Romain Duris', 'Raghuvir Joshi', 'Jessica Sula', 'Juno Temple', 'Denzel Washington', 'Garret Dillahunt', 'Jorge Garcia', 'Gaby Hoffmann', 'Tessa Thompson', 'Cedric the Entertainer', 'Michael Rooker', 'Vincent Cassel', 'Jessica Barth', 'Soo-an Kim', 'Odeya Rush', 'Kirby Bliss Blanton', 'Angela Bassett', 'Oliver Cooper', 'Annabelle Attanasio', 'Tadanobu Asano', 'Travis Fimmel', 'Peter Sarsgaard', 'Adam Rodriguez', 'Billie Piper', 'Rebecca Hall', 'Tony Danza', 'Marlon Wayans', 'Taylor Kitsch', 'Randall Park', 'Josh Wiggins', 'Jason Momoa', 'Diego Klattenhoff', 'Cobie Smulders', 'Dick Van Dyke', 'Marion Cotillard', 'Candice Bergen', 'Rene Russo', 'Kari Matchett', 'James Badge Dale', 'David Thewlis', 'Calum Worthy', 'Jay Baruchel', 'Ellen DeGeneres', 'Milo Ventimiglia', 'Elijah Wood', 'Patricia Clarkson', 'Katherine Waterston', 'Catalina Sandino Moreno', 'Hailee Steinfeld', 'Erin Moriarty', 'Mark Rylance', 'Ed Harris', 'Haley Lu Richardson', 'Chiwetel Ejiofor', 'Lukas Hassel', 'Kate Beckinsale', 'Nancy Kwan', 'Aurelien Recoing', 'McCaul Lombardi', 'Eric Winter', 'Mandy Gonzalez', 'Noah Wiseman', 'Julianne Hough', 'Anna Hutchison', 'Taraji P. Henson', 'Abbie Cornish', 'Ruben Blades', 'Leslie Bibb', 'Julian Richings', 'Kaitlin Olson', 'Shameik Moore', 'Sheila Kelley', 'Stanley Tucci', 'Ellar Coltrane', 'Martin McCann', 'Ned Beatty', 'Noomi Rapace', 'Ross Kimball', 'Ed Helms', 'Pierre Coffin', 'Sally Phillips', 'Karen Gillan', 'Walton Goggins', 'Tom Holland', 'Ryan Gosling', 'Nellie', 'Josh Hutcherson', 'Thomas Haden Church', 'Carice van Houten', 'Liana Liberato', 'Olivia Cooke', 'Zach Galifianakis', 'Thomas Jane', 'Britt Robertson', 'Sylvester Stallone', 'Shannon Woodward', 'Vin Diesel', 'Brady Corbet', 'Eric Bana', 'Eve', 'Tian Jing', 'Alan Tudyk', 'Katherine Heigl', 'Austin Abrams', 'Tyrese Gibson', 'Elizabeth Berrington', 'Matthew Perry', 'Elle Fanning', 'Anthony Mackie', 'Yoo Gong', 'Peter Riegert'}\n"
     ]
    }
   ],
   "source": [
    "johnny=[]\n",
    "list_actor=[]\n",
    "for l in range(len(df)):\n",
    "    actor1=str(df.iloc[l][\"Actors\"]).split(\"|\")\n",
    "    list2=[]\n",
    "    for i in actor1:\n",
    "        list2.append(i.lstrip())\n",
    "    list_actor.append(list2)\n",
    "    for l in list2:\n",
    "        if \"Johnny Depp\" in list2:\n",
    "            johnny.append(l)\n",
    "johnny1=set(johnny)\n",
    "h=set()\n",
    "while h != johnny1:\n",
    "    h=johnny1\n",
    "    for k in list_actor:\n",
    "        for r in johnny1:\n",
    "            if r in k:\n",
    "                johnny1=set(k)|johnny1\n",
    "print(\"Find all actors who collaborate with Johnny Depp in direct and indirect ways\")\n",
    "print(johnny1)"
   ]
  }
 ],
 "metadata": {
  "kernelspec": {
   "display_name": "Python 3 (ipykernel)",
   "language": "python",
   "name": "python3"
  },
  "language_info": {
   "codemirror_mode": {
    "name": "ipython",
    "version": 3
   },
   "file_extension": ".py",
   "mimetype": "text/x-python",
   "name": "python",
   "nbconvert_exporter": "python",
   "pygments_lexer": "ipython3",
   "version": "3.8.7"
  }
 },
 "nbformat": 4,
 "nbformat_minor": 5
}
