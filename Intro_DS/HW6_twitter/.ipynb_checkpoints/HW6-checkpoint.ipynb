{
 "cells": [
  {
   "cell_type": "code",
   "execution_count": 1,
   "id": "4c628455",
   "metadata": {},
   "outputs": [],
   "source": [
    "import pandas as pd\n",
    "import numpy as np\n",
    "import seaborn as sns\n",
    "import matplotlib.pyplot as plt"
   ]
  },
  {
   "cell_type": "code",
   "execution_count": 2,
   "id": "ce6fc7b7",
   "metadata": {},
   "outputs": [],
   "source": [
    "test=pd.read_csv('test.csv')\n",
    "train=pd.read_csv(\"train.csv\")\n",
    "upload=pd.read_csv(\"sample_upload.csv\")"
   ]
  },
  {
   "cell_type": "code",
   "execution_count": 3,
   "id": "10e409f0",
   "metadata": {},
   "outputs": [
    {
     "data": {
      "text/html": [
       "<div>\n",
       "<style scoped>\n",
       "    .dataframe tbody tr th:only-of-type {\n",
       "        vertical-align: middle;\n",
       "    }\n",
       "\n",
       "    .dataframe tbody tr th {\n",
       "        vertical-align: top;\n",
       "    }\n",
       "\n",
       "    .dataframe thead th {\n",
       "        text-align: right;\n",
       "    }\n",
       "</style>\n",
       "<table border=\"1\" class=\"dataframe\">\n",
       "  <thead>\n",
       "    <tr style=\"text-align: right;\">\n",
       "      <th></th>\n",
       "      <th>class</th>\n",
       "      <th>tweet</th>\n",
       "      <th>text_len</th>\n",
       "    </tr>\n",
       "  </thead>\n",
       "  <tbody>\n",
       "    <tr>\n",
       "      <th>0</th>\n",
       "      <td>1</td>\n",
       "      <td>[9-1-13] 2:50 pm \"son of a bitch ate my mac n ...</td>\n",
       "      <td>13</td>\n",
       "    </tr>\n",
       "    <tr>\n",
       "      <th>1</th>\n",
       "      <td>1</td>\n",
       "      <td>RT @BryceSerna: Don't be a pussy grab the boot...</td>\n",
       "      <td>15</td>\n",
       "    </tr>\n",
       "    <tr>\n",
       "      <th>2</th>\n",
       "      <td>2</td>\n",
       "      <td>RT @ClicquotSuave: bunch of rappers boutta flo...</td>\n",
       "      <td>12</td>\n",
       "    </tr>\n",
       "    <tr>\n",
       "      <th>3</th>\n",
       "      <td>2</td>\n",
       "      <td>@michigannews13 wow. Thats great language comi...</td>\n",
       "      <td>22</td>\n",
       "    </tr>\n",
       "    <tr>\n",
       "      <th>4</th>\n",
       "      <td>1</td>\n",
       "      <td>and this is why I'm single, I don't fuck with ...</td>\n",
       "      <td>15</td>\n",
       "    </tr>\n",
       "  </tbody>\n",
       "</table>\n",
       "</div>"
      ],
      "text/plain": [
       "   class                                              tweet  text_len\n",
       "0      1  [9-1-13] 2:50 pm \"son of a bitch ate my mac n ...        13\n",
       "1      1  RT @BryceSerna: Don't be a pussy grab the boot...        15\n",
       "2      2  RT @ClicquotSuave: bunch of rappers boutta flo...        12\n",
       "3      2  @michigannews13 wow. Thats great language comi...        22\n",
       "4      1  and this is why I'm single, I don't fuck with ...        15"
      ]
     },
     "execution_count": 3,
     "metadata": {},
     "output_type": "execute_result"
    }
   ],
   "source": [
    "train.head()\n",
    "train['text_len'] = train['tweet'].apply(lambda x: len(x.split(' ')))\n",
    "\n",
    "train.head()"
   ]
  },
  {
   "cell_type": "code",
   "execution_count": 4,
   "id": "5e4641f5",
   "metadata": {},
   "outputs": [
    {
     "data": {
      "text/plain": [
       "<AxesSubplot:xlabel='class', ylabel='count'>"
      ]
     },
     "execution_count": 4,
     "metadata": {},
     "output_type": "execute_result"
    },
    {
     "data": {
      "image/png": "[encoded data removed]",
      "text/plain": [
       "<Figure size 720x360 with 1 Axes>"
      ]
     },
     "metadata": {
      "needs_background": "light"
     },
     "output_type": "display_data"
    }
   ],
   "source": [
    "plt.figure(figsize=(10,5))\n",
    "sns.set_palette(sns.color_palette(\"BuGn_d\",8))\n",
    "sns.countplot(x=\"class\",data=train)"
   ]
  },
  {
   "cell_type": "code",
   "execution_count": 5,
   "id": "ccf358e4",
   "metadata": {},
   "outputs": [],
   "source": [
    "import re \n",
    "import string\n",
    "def remove_url(text):\n",
    "    url = re.compile(r'https?://\\S+|www\\.\\S+')\n",
    "    return url.sub(r'', text)\n",
    "\n",
    "\n",
    "def remove_emoji(text):\n",
    "    emoji_pattern = re.compile(\n",
    "        '['\n",
    "        u'\\U0001F600-\\U0001F64F'  # emoticons\n",
    "        u'\\U0001F300-\\U0001F5FF'  # symbols & pictographs\n",
    "        u'\\U0001F680-\\U0001F6FF'  # transport & map symbols\n",
    "        u'\\U0001F1E0-\\U0001F1FF'  # flags (iOS)\n",
    "        u'\\U00002702-\\U000027B0'\n",
    "        u'\\U000024C2-\\U0001F251'\n",
    "        ']+',\n",
    "        flags=re.UNICODE)\n",
    "    return emoji_pattern.sub(r'', text)\n",
    "\n",
    "def remove_html(text):\n",
    "    html = re.compile(r'<.*?>|&([a-z0-9]+|#[0-9]{1,6}|#x[0-9a-f]{1,6});')\n",
    "    return re.sub(html, '', text)\n",
    "\n",
    "def clean_text(text):\n",
    "    '''Make text lowercase, remove text in square brackets,remove links,remove punctuation\n",
    "    and remove words containing numbers.'''\n",
    "    text = str(text).lower()\n",
    "    text = re.sub('\\[.*?\\]', '', text)\n",
    "    text = re.sub(\n",
    "        'http[s]?://(?:[a-zA-Z]|[0-9]|[$-_@.&+]|[!*\\(\\),]|(?:%[0-9a-fA-F][0-9a-fA-F]))+', \n",
    "        '', \n",
    "        text\n",
    "    )\n",
    "    text = re.sub('https?://\\S+|www\\.\\S+', '', text)\n",
    "    text = re.sub('<.*?>+', '', text)\n",
    "    text = re.sub('[%s]' % re.escape(string.punctuation), '', text)\n",
    "    text = re.sub('\\n', '', text)\n",
    "    text = re.sub('\\w*\\d\\w*', '', text)\n",
    "    text = re.sub('rt', '', text)\n",
    "    \n",
    "    text = remove_url(text)\n",
    "    text = remove_emoji(text)\n",
    "    text = remove_html(text)\n",
    "    \n",
    "    return text"
   ]
  },
  {
   "cell_type": "code",
   "execution_count": 6,
   "id": "0e57653f",
   "metadata": {},
   "outputs": [
    {
     "data": {
      "text/plain": [
       "'Oh my god Another Earthquake '"
      ]
     },
     "execution_count": 6,
     "metadata": {},
     "output_type": "execute_result"
    }
   ],
   "source": [
    "#test the funcion\n",
    "remove_emoji(\"Oh my god Another Earthquake 😔😔\")"
   ]
  },
  {
   "cell_type": "code",
   "execution_count": 7,
   "id": "9d507d13",
   "metadata": {},
   "outputs": [],
   "source": [
    "import nltk\n",
    "from nltk.corpus import stopwords\n",
    "stop_words = stopwords.words('english')\n",
    "more_stopwords = ['u', 'im', 'c']\n",
    "stop_words = stop_words + more_stopwords\n",
    "\n",
    "stemmer = nltk.SnowballStemmer(\"english\")\n",
    "\n",
    "\n",
    "def preprocess_data(text):\n",
    "    text = clean_text(text)\n",
    "    text = ' '.join(stemmer.stem(word) for word in text.split(' ') if word not in stop_words)\n",
    "    return text"
   ]
  },
  {
   "cell_type": "code",
   "execution_count": 8,
   "id": "2954c9e7",
   "metadata": {
    "scrolled": false
   },
   "outputs": [
    {
     "data": {
      "text/html": [
       "<div>\n",
       "<style scoped>\n",
       "    .dataframe tbody tr th:only-of-type {\n",
       "        vertical-align: middle;\n",
       "    }\n",
       "\n",
       "    .dataframe tbody tr th {\n",
       "        vertical-align: top;\n",
       "    }\n",
       "\n",
       "    .dataframe thead th {\n",
       "        text-align: right;\n",
       "    }\n",
       "</style>\n",
       "<table border=\"1\" class=\"dataframe\">\n",
       "  <thead>\n",
       "    <tr style=\"text-align: right;\">\n",
       "      <th></th>\n",
       "      <th>class</th>\n",
       "      <th>tweet</th>\n",
       "      <th>text_len</th>\n",
       "      <th>tweet_clean</th>\n",
       "    </tr>\n",
       "  </thead>\n",
       "  <tbody>\n",
       "    <tr>\n",
       "      <th>0</th>\n",
       "      <td>1</td>\n",
       "      <td>[9-1-13] 2:50 pm \"son of a bitch ate my mac n ...</td>\n",
       "      <td>13</td>\n",
       "      <td>pm son bitch ate mac n chees</td>\n",
       "    </tr>\n",
       "    <tr>\n",
       "      <th>1</th>\n",
       "      <td>1</td>\n",
       "      <td>RT @BryceSerna: Don't be a pussy grab the boot...</td>\n",
       "      <td>15</td>\n",
       "      <td>bryceserna dont pussi grab booti love booti a...</td>\n",
       "    </tr>\n",
       "    <tr>\n",
       "      <th>2</th>\n",
       "      <td>2</td>\n",
       "      <td>RT @ClicquotSuave: bunch of rappers boutta flo...</td>\n",
       "      <td>12</td>\n",
       "      <td>clicquotsuav bunch rapper boutta flood intern...</td>\n",
       "    </tr>\n",
       "    <tr>\n",
       "      <th>3</th>\n",
       "      <td>2</td>\n",
       "      <td>@michigannews13 wow. Thats great language comi...</td>\n",
       "      <td>22</td>\n",
       "      <td>wow that great languag come hs coach sure rol...</td>\n",
       "    </tr>\n",
       "    <tr>\n",
       "      <th>4</th>\n",
       "      <td>1</td>\n",
       "      <td>and this is why I'm single, I don't fuck with ...</td>\n",
       "      <td>15</td>\n",
       "      <td>singl dont fuck bitch attitud foh</td>\n",
       "    </tr>\n",
       "  </tbody>\n",
       "</table>\n",
       "</div>"
      ],
      "text/plain": [
       "   class                                              tweet  text_len  \\\n",
       "0      1  [9-1-13] 2:50 pm \"son of a bitch ate my mac n ...        13   \n",
       "1      1  RT @BryceSerna: Don't be a pussy grab the boot...        15   \n",
       "2      2  RT @ClicquotSuave: bunch of rappers boutta flo...        12   \n",
       "3      2  @michigannews13 wow. Thats great language comi...        22   \n",
       "4      1  and this is why I'm single, I don't fuck with ...        15   \n",
       "\n",
       "                                         tweet_clean  \n",
       "0                      pm son bitch ate mac n chees   \n",
       "1   bryceserna dont pussi grab booti love booti a...  \n",
       "2   clicquotsuav bunch rapper boutta flood intern...  \n",
       "3   wow that great languag come hs coach sure rol...  \n",
       "4                  singl dont fuck bitch attitud foh  "
      ]
     },
     "execution_count": 8,
     "metadata": {},
     "output_type": "execute_result"
    }
   ],
   "source": [
    "test['tweet_clean'] = test['tweet'].apply(preprocess_data)\n",
    "train['tweet_clean'] = train['tweet'].apply(preprocess_data)\n",
    "\n",
    "train.head()"
   ]
  },
  {
   "cell_type": "code",
   "execution_count": 9,
   "id": "e1b48c97",
   "metadata": {},
   "outputs": [],
   "source": [
    "def create_corpus_df(tweet, target):\n",
    "    corpus=[]\n",
    "    for x in tweet[tweet['class']==target]['tweet_clean'].str.split():\n",
    "        for i in x:\n",
    "            corpus.append(i)\n",
    "    return corpus"
   ]
  },
  {
   "cell_type": "code",
   "execution_count": 10,
   "id": "44d12938",
   "metadata": {},
   "outputs": [
    {
     "data": {
      "text/plain": [
       "[('bitch', 6485),\n",
       " ('hoe', 2460),\n",
       " ('like', 1450),\n",
       " ('pussi', 1254),\n",
       " ('fuck', 1181),\n",
       " ('nigga', 1104),\n",
       " ('dont', 878),\n",
       " ('ass', 874),\n",
       " ('get', 857),\n",
       " ('shit', 736)]"
      ]
     },
     "execution_count": 10,
     "metadata": {},
     "output_type": "execute_result"
    }
   ],
   "source": [
    "from collections import defaultdict\n",
    "corpus_disaster_tweets = create_corpus_df(train, 1)\n",
    "\n",
    "dic=defaultdict(int)\n",
    "\n",
    "for word in corpus_disaster_tweets:\n",
    "    dic[word]+=1\n",
    "        \n",
    "top_real=sorted(dic.items(), key=lambda x:x[1],reverse=True)[:10]\n",
    "top_real"
   ]
  },
  {
   "cell_type": "code",
   "execution_count": 11,
   "id": "47dba227",
   "metadata": {},
   "outputs": [
    {
     "data": {
      "text/plain": [
       "[('bitch', 166),\n",
       " ('faggot', 143),\n",
       " ('fuck', 128),\n",
       " ('nigga', 120),\n",
       " ('like', 115),\n",
       " ('nigger', 92),\n",
       " ('ass', 73),\n",
       " ('fag', 66),\n",
       " ('trash', 66),\n",
       " ('white', 63)]"
      ]
     },
     "execution_count": 11,
     "metadata": {},
     "output_type": "execute_result"
    }
   ],
   "source": [
    "corpus_disaster_tweets = create_corpus_df(train, 0)\n",
    "\n",
    "dic=defaultdict(int)\n",
    "\n",
    "for word in corpus_disaster_tweets:\n",
    "    dic[word]+=1\n",
    "        \n",
    "top_real=sorted(dic.items(), key=lambda x:x[1],reverse=True)[:10]\n",
    "top_real"
   ]
  },
  {
   "cell_type": "code",
   "execution_count": 12,
   "id": "1c0c409e",
   "metadata": {},
   "outputs": [
    {
     "data": {
      "text/plain": [
       "[('trash', 426),\n",
       " ('bird', 281),\n",
       " ('yanke', 207),\n",
       " ('like', 167),\n",
       " ('charli', 167),\n",
       " ('yellow', 146),\n",
       " ('get', 125),\n",
       " ('dont', 102),\n",
       " ('one', 97),\n",
       " ('amp', 90)]"
      ]
     },
     "execution_count": 12,
     "metadata": {},
     "output_type": "execute_result"
    }
   ],
   "source": [
    "corpus_disaster_tweets = create_corpus_df(train, 2)\n",
    "\n",
    "dic=defaultdict(int)\n",
    "for word in corpus_disaster_tweets:\n",
    "    dic[word]+=1\n",
    "        \n",
    "top_fake=sorted(dic.items(), key=lambda x:x[1],reverse=True)[:10]\n",
    "top_fake"
   ]
  },
  {
   "cell_type": "code",
   "execution_count": 13,
   "id": "dacfad45",
   "metadata": {},
   "outputs": [
    {
     "name": "stdout",
     "output_type": "stream",
     "text": [
      "11151 11151\n",
      "3718 3718\n"
     ]
    }
   ],
   "source": [
    "x = train['tweet_clean']\n",
    "y = train['class']\n",
    "\n",
    "from sklearn.model_selection import train_test_split\n",
    "\n",
    "x_train, x_test, y_train, y_test = train_test_split(x, y, random_state=42,train_size=0.75)\n",
    "\n",
    "print(len(x_train), len(y_train))\n",
    "print(len(x_test), len(y_test))"
   ]
  },
  {
   "cell_type": "markdown",
   "id": "175474ea",
   "metadata": {},
   "source": [
    "Pipeline (XGB)\n",
    "======"
   ]
  },
  {
   "cell_type": "code",
   "execution_count": 14,
   "id": "b97b9eee",
   "metadata": {},
   "outputs": [
    {
     "name": "stdout",
     "output_type": "stream",
     "text": [
      "Train: 0.9181239350730876\n",
      "Test: 0.899677245831092\n"
     ]
    }
   ],
   "source": [
    "from sklearn.pipeline import Pipeline\n",
    "from sklearn.feature_extraction.text import CountVectorizer\n",
    "from sklearn.feature_extraction.text import TfidfTransformer\n",
    "from sklearn.feature_extraction.text import TfidfVectorizer\n",
    "import xgboost as xgb\n",
    "\n",
    "pipe = Pipeline([\n",
    "    ('bow', CountVectorizer()), \n",
    "    ('tfid', TfidfTransformer()),  \n",
    "    ('model', xgb.XGBClassifier(\n",
    "        learning_rate=0.1,\n",
    "        max_depth=7,\n",
    "        n_estimators=100,\n",
    "        use_label_encoder=False,\n",
    "        eval_metric='auc',\n",
    "    ))\n",
    "])\n",
    "\n",
    "from sklearn import metrics\n",
    "\n",
    "# Fit the pipeline with the data\n",
    "pipe.fit(x_train, y_train)\n",
    "\n",
    "y_pred_class = pipe.predict(x_test)\n",
    "y_pred_train = pipe.predict(x_train)\n",
    "\n",
    "print('Train: {}'.format(metrics.accuracy_score(y_train, y_pred_train)))\n",
    "print('Test: {}'.format(metrics.accuracy_score(y_test, y_pred_class)))\n"
   ]
  },
  {
   "cell_type": "code",
   "execution_count": 15,
   "id": "e19a7dac",
   "metadata": {},
   "outputs": [
    {
     "data": {
      "text/plain": [
       "array([1, 2, 1, ..., 1, 1, 2], dtype=int64)"
      ]
     },
     "execution_count": 15,
     "metadata": {},
     "output_type": "execute_result"
    }
   ],
   "source": [
    "test_pred_pipeXGB=pipe.predict(test[\"tweet_clean\"])\n",
    "test_pred_pipeXGB"
   ]
  },
  {
   "cell_type": "code",
   "execution_count": 16,
   "id": "25112dba",
   "metadata": {},
   "outputs": [],
   "source": [
    "upload_pipeXGB=upload\n",
    "upload_pipeXGB[\"class\"]=test_pred_pipeXGB\n",
    "upload_pipeXGB=upload_pipeXGB.set_index(\"id\")\n",
    "upload_pipeXGB.to_csv(\"upload_pipeXGB.csv\")\n"
   ]
  },
  {
   "cell_type": "markdown",
   "id": "c9a7c19a",
   "metadata": {},
   "source": [
    "LSTM\n",
    "======"
   ]
  },
  {
   "cell_type": "code",
   "execution_count": 17,
   "id": "bdc7e1f6",
   "metadata": {},
   "outputs": [
    {
     "data": {
      "text/html": [
       "<div>\n",
       "<style scoped>\n",
       "    .dataframe tbody tr th:only-of-type {\n",
       "        vertical-align: middle;\n",
       "    }\n",
       "\n",
       "    .dataframe tbody tr th {\n",
       "        vertical-align: top;\n",
       "    }\n",
       "\n",
       "    .dataframe thead th {\n",
       "        text-align: right;\n",
       "    }\n",
       "</style>\n",
       "<table border=\"1\" class=\"dataframe\">\n",
       "  <thead>\n",
       "    <tr style=\"text-align: right;\">\n",
       "      <th></th>\n",
       "      <th>class</th>\n",
       "      <th>tweet</th>\n",
       "      <th>text_len</th>\n",
       "      <th>tweet_clean</th>\n",
       "    </tr>\n",
       "  </thead>\n",
       "  <tbody>\n",
       "    <tr>\n",
       "      <th>0</th>\n",
       "      <td>1</td>\n",
       "      <td>[9-1-13] 2:50 pm \"son of a bitch ate my mac n ...</td>\n",
       "      <td>13</td>\n",
       "      <td>pm son bitch ate mac n chees</td>\n",
       "    </tr>\n",
       "    <tr>\n",
       "      <th>1</th>\n",
       "      <td>1</td>\n",
       "      <td>RT @BryceSerna: Don't be a pussy grab the boot...</td>\n",
       "      <td>15</td>\n",
       "      <td>bryceserna dont pussi grab booti love booti a...</td>\n",
       "    </tr>\n",
       "    <tr>\n",
       "      <th>2</th>\n",
       "      <td>0</td>\n",
       "      <td>RT @ClicquotSuave: bunch of rappers boutta flo...</td>\n",
       "      <td>12</td>\n",
       "      <td>clicquotsuav bunch rapper boutta flood intern...</td>\n",
       "    </tr>\n",
       "    <tr>\n",
       "      <th>3</th>\n",
       "      <td>0</td>\n",
       "      <td>@michigannews13 wow. Thats great language comi...</td>\n",
       "      <td>22</td>\n",
       "      <td>wow that great languag come hs coach sure rol...</td>\n",
       "    </tr>\n",
       "    <tr>\n",
       "      <th>4</th>\n",
       "      <td>1</td>\n",
       "      <td>and this is why I'm single, I don't fuck with ...</td>\n",
       "      <td>15</td>\n",
       "      <td>singl dont fuck bitch attitud foh</td>\n",
       "    </tr>\n",
       "  </tbody>\n",
       "</table>\n",
       "</div>"
      ],
      "text/plain": [
       "   class                                              tweet  text_len  \\\n",
       "0      1  [9-1-13] 2:50 pm \"son of a bitch ate my mac n ...        13   \n",
       "1      1  RT @BryceSerna: Don't be a pussy grab the boot...        15   \n",
       "2      0  RT @ClicquotSuave: bunch of rappers boutta flo...        12   \n",
       "3      0  @michigannews13 wow. Thats great language comi...        22   \n",
       "4      1  and this is why I'm single, I don't fuck with ...        15   \n",
       "\n",
       "                                         tweet_clean  \n",
       "0                      pm son bitch ate mac n chees   \n",
       "1   bryceserna dont pussi grab booti love booti a...  \n",
       "2   clicquotsuav bunch rapper boutta flood intern...  \n",
       "3   wow that great languag come hs coach sure rol...  \n",
       "4                  singl dont fuck bitch attitud foh  "
      ]
     },
     "execution_count": 17,
     "metadata": {},
     "output_type": "execute_result"
    }
   ],
   "source": [
    "train_lstm=train\n",
    "\n",
    "train_lstm[\"class\"].replace({0: 1}, inplace=True)\n",
    "train_lstm[\"class\"].replace({2: 0}, inplace=True)\n",
    "\n",
    "train_lstm.head()\n"
   ]
  },
  {
   "cell_type": "code",
   "execution_count": 18,
   "id": "f0aba8ed",
   "metadata": {},
   "outputs": [
    {
     "data": {
      "text/html": [
       "<div>\n",
       "<style scoped>\n",
       "    .dataframe tbody tr th:only-of-type {\n",
       "        vertical-align: middle;\n",
       "    }\n",
       "\n",
       "    .dataframe tbody tr th {\n",
       "        vertical-align: top;\n",
       "    }\n",
       "\n",
       "    .dataframe thead th {\n",
       "        text-align: right;\n",
       "    }\n",
       "</style>\n",
       "<table border=\"1\" class=\"dataframe\">\n",
       "  <thead>\n",
       "    <tr style=\"text-align: right;\">\n",
       "      <th></th>\n",
       "      <th>class</th>\n",
       "      <th>tweet</th>\n",
       "      <th>tweet_clean</th>\n",
       "    </tr>\n",
       "  </thead>\n",
       "  <tbody>\n",
       "    <tr>\n",
       "      <th>0</th>\n",
       "      <td>1</td>\n",
       "      <td>[9-1-13] 2:50 pm \"son of a bitch ate my mac n ...</td>\n",
       "      <td>pm son bitch ate mac n chees</td>\n",
       "    </tr>\n",
       "    <tr>\n",
       "      <th>1</th>\n",
       "      <td>1</td>\n",
       "      <td>RT @BryceSerna: Don't be a pussy grab the boot...</td>\n",
       "      <td>bryceserna dont pussi grab booti love booti a...</td>\n",
       "    </tr>\n",
       "    <tr>\n",
       "      <th>2</th>\n",
       "      <td>2</td>\n",
       "      <td>RT @ClicquotSuave: bunch of rappers boutta flo...</td>\n",
       "      <td>clicquotsuav bunch rapper boutta flood intern...</td>\n",
       "    </tr>\n",
       "    <tr>\n",
       "      <th>3</th>\n",
       "      <td>2</td>\n",
       "      <td>@michigannews13 wow. Thats great language comi...</td>\n",
       "      <td>wow that great languag come hs coach sure rol...</td>\n",
       "    </tr>\n",
       "    <tr>\n",
       "      <th>4</th>\n",
       "      <td>1</td>\n",
       "      <td>and this is why I'm single, I don't fuck with ...</td>\n",
       "      <td>singl dont fuck bitch attitud foh</td>\n",
       "    </tr>\n",
       "  </tbody>\n",
       "</table>\n",
       "</div>"
      ],
      "text/plain": [
       "   class                                              tweet  \\\n",
       "0      1  [9-1-13] 2:50 pm \"son of a bitch ate my mac n ...   \n",
       "1      1  RT @BryceSerna: Don't be a pussy grab the boot...   \n",
       "2      2  RT @ClicquotSuave: bunch of rappers boutta flo...   \n",
       "3      2  @michigannews13 wow. Thats great language comi...   \n",
       "4      1  and this is why I'm single, I don't fuck with ...   \n",
       "\n",
       "                                         tweet_clean  \n",
       "0                      pm son bitch ate mac n chees   \n",
       "1   bryceserna dont pussi grab booti love booti a...  \n",
       "2   clicquotsuav bunch rapper boutta flood intern...  \n",
       "3   wow that great languag come hs coach sure rol...  \n",
       "4                  singl dont fuck bitch attitud foh  "
      ]
     },
     "execution_count": 18,
     "metadata": {},
     "output_type": "execute_result"
    }
   ],
   "source": [
    "train=pd.read_csv(\"train.csv\")\n",
    "train['tweet_clean'] = train['tweet'].apply(preprocess_data)\n",
    "train.head()"
   ]
  },
  {
   "cell_type": "code",
   "execution_count": 19,
   "id": "26dccaec",
   "metadata": {},
   "outputs": [],
   "source": [
    "train_tweets = train_lstm['tweet_clean'].values\n",
    "test_tweets = test['tweet_clean'].values\n",
    "train_target = train_lstm['class'].values"
   ]
  },
  {
   "cell_type": "code",
   "execution_count": 20,
   "id": "774e9a0f",
   "metadata": {},
   "outputs": [
    {
     "name": "stdout",
     "output_type": "stream",
     "text": [
      "14224\n",
      "18424\n"
     ]
    }
   ],
   "source": [
    "from keras.preprocessing.text import Tokenizer\n",
    "\n",
    "\n",
    "word_tokenizer = Tokenizer()\n",
    "word_tokenizer.fit_on_texts(test_tweets)\n",
    "vocab_length_test = len(word_tokenizer.word_index) + 1\n",
    "print(vocab_length_test)\n",
    "\n",
    "word_tokenizer = Tokenizer()\n",
    "word_tokenizer.fit_on_texts(train_tweets)\n",
    "vocab_length_train = len(word_tokenizer.word_index) + 1\n",
    "print(vocab_length_train)\n"
   ]
  },
  {
   "cell_type": "code",
   "execution_count": 21,
   "id": "2a566e3d",
   "metadata": {},
   "outputs": [],
   "source": [
    "from sklearn.metrics import f1_score, precision_score, recall_score, accuracy_score, classification_report\n",
    "\n",
    "def show_metrics(pred_tag, y_test):\n",
    "    print(\"F1-score: \", f1_score(pred_tag, y_test))\n",
    "    print(\"Precision: \", precision_score(pred_tag, y_test))\n",
    "    print(\"Recall: \", recall_score(pred_tag, y_test))\n",
    "    print(\"Acuracy: \", accuracy_score(pred_tag, y_test))\n",
    "    print(\"-\"*50)\n",
    "    print(classification_report(pred_tag, y_test))\n",
    "    \n",
    "def embed(corpus): \n",
    "    return word_tokenizer.texts_to_sequences(corpus)"
   ]
  },
  {
   "cell_type": "code",
   "execution_count": 22,
   "id": "e2aacb5c",
   "metadata": {},
   "outputs": [
    {
     "data": {
      "text/plain": [
       "array([[ 4320,   277,     1, ...,     0,     0,     0],\n",
       "       [ 6605,     7,     5, ...,     0,     0,     0],\n",
       "       [ 1404,   627,   845, ...,     0,     0,     0],\n",
       "       ...,\n",
       "       [18420,    94,     1, ...,     0,     0,     0],\n",
       "       [18421, 18422,    58, ...,     0,     0,     0],\n",
       "       [18423,     7,    16, ...,     0,     0,     0]])"
      ]
     },
     "execution_count": 22,
     "metadata": {},
     "output_type": "execute_result"
    }
   ],
   "source": [
    "from nltk import word_tokenize \n",
    "\n",
    "maxlength_train = max(train_tweets, key=lambda sentence: len(word_tokenize(sentence)))\n",
    "length_long_sentence = len(word_tokenize(maxlength_train))\n",
    "\n",
    "from keras.preprocessing.sequence import pad_sequences\n",
    "\n",
    "train_padded_sentences = pad_sequences(\n",
    "    embed(train_tweets), \n",
    "    length_long_sentence, \n",
    "    padding='post'\n",
    ")\n",
    "\n",
    "test_padded_sentences = pad_sequences(\n",
    "    embed(test_tweets), \n",
    "    length_long_sentence,\n",
    "    padding='post'\n",
    ")\n",
    "\n",
    "train_padded_sentences"
   ]
  },
  {
   "cell_type": "code",
   "execution_count": 23,
   "id": "8d54506f",
   "metadata": {},
   "outputs": [
    {
     "data": {
      "text/plain": [
       "array([[ 0.        ,  0.        ,  0.        , ...,  0.        ,\n",
       "         0.        ,  0.        ],\n",
       "       [ 0.33096999,  0.082649  ,  0.66940999, ...,  0.14552   ,\n",
       "         0.096472  , -0.28279001],\n",
       "       [-0.1644    , -0.27706   , -0.33697   , ...,  0.17838   ,\n",
       "         0.67962003, -0.13873   ],\n",
       "       ...,\n",
       "       [ 0.        ,  0.        ,  0.        , ...,  0.        ,\n",
       "         0.        ,  0.        ],\n",
       "       [-0.0084675 ,  0.18178   , -0.14348   , ...,  0.43121001,\n",
       "         0.12015   ,  1.08010006],\n",
       "       [ 0.        ,  0.        ,  0.        , ...,  0.        ,\n",
       "         0.        ,  0.        ]])"
      ]
     },
     "execution_count": 23,
     "metadata": {},
     "output_type": "execute_result"
    }
   ],
   "source": [
    "embeddings_dictionary = dict()\n",
    "embedding_dim=100\n",
    "\n",
    "with open('glove.6B.100d.txt',encoding=\"utf-8\") as fp:\n",
    "    for line in fp.readlines():\n",
    "        records = line.split()\n",
    "        word = records[0]\n",
    "        vector_dimensions = np.asarray(records[1:], dtype='float32')\n",
    "        embeddings_dictionary [word] = vector_dimensions\n",
    "        \n",
    "embedding_matrix = np.zeros((vocab_length_train, embedding_dim))\n",
    "\n",
    "\n",
    "for word, index in word_tokenizer.word_index.items():\n",
    "    embedding_vector = embeddings_dictionary.get(word)\n",
    "    if embedding_vector is not None:\n",
    "        embedding_matrix[index] = embedding_vector\n",
    "        \n",
    "embedding_matrix"
   ]
  },
  {
   "cell_type": "code",
   "execution_count": 24,
   "id": "0eaae8ec",
   "metadata": {},
   "outputs": [],
   "source": [
    "X_train, X_test, y_train, y_test = train_test_split(\n",
    "    train_padded_sentences, \n",
    "    train_target, \n",
    "    test_size=0.25\n",
    ")"
   ]
  },
  {
   "cell_type": "code",
   "execution_count": 25,
   "id": "91c8bc2a",
   "metadata": {},
   "outputs": [
    {
     "name": "stdout",
     "output_type": "stream",
     "text": [
      "Model: \"sequential\"\n",
      "_________________________________________________________________\n",
      " Layer (type)                Output Shape              Param #   \n",
      "=================================================================\n",
      " embedding (Embedding)       (None, 25, 100)           1842400   \n",
      "                                                                 \n",
      " bidirectional (Bidirectiona  (None, 25, 50)           25200     \n",
      " l)                                                              \n",
      "                                                                 \n",
      " global_max_pooling1d (Globa  (None, 50)               0         \n",
      " lMaxPooling1D)                                                  \n",
      "                                                                 \n",
      " batch_normalization (BatchN  (None, 50)               200       \n",
      " ormalization)                                                   \n",
      "                                                                 \n",
      " dropout (Dropout)           (None, 50)                0         \n",
      "                                                                 \n",
      " dense (Dense)               (None, 25)                1275      \n",
      "                                                                 \n",
      " dropout_1 (Dropout)         (None, 25)                0         \n",
      "                                                                 \n",
      " dense_1 (Dense)             (None, 25)                650       \n",
      "                                                                 \n",
      " dropout_2 (Dropout)         (None, 25)                0         \n",
      "                                                                 \n",
      " dense_2 (Dense)             (None, 1)                 26        \n",
      "                                                                 \n",
      "=================================================================\n",
      "Total params: 1,869,751\n",
      "Trainable params: 1,869,651\n",
      "Non-trainable params: 100\n",
      "_________________________________________________________________\n"
     ]
    }
   ],
   "source": [
    "from keras.models import Sequential, Model\n",
    "from keras.layers import Embedding, Bidirectional, LSTM, GlobalMaxPool1D,BatchNormalization, Dropout, Dense\n",
    "\n",
    "def glove_lstm():\n",
    "    model = Sequential()\n",
    "    \n",
    "    model.add(Embedding(\n",
    "        input_dim=embedding_matrix.shape[0], \n",
    "        output_dim=embedding_matrix.shape[1], \n",
    "        weights = [embedding_matrix], \n",
    "        input_length=length_long_sentence\n",
    "    ))\n",
    "    model.add(Bidirectional(LSTM(\n",
    "        length_long_sentence, \n",
    "        return_sequences = True, \n",
    "        recurrent_dropout=0.2\n",
    "    )))\n",
    "    \n",
    "    model.add(GlobalMaxPool1D())\n",
    "    model.add(BatchNormalization())\n",
    "    model.add(Dropout(0.5))\n",
    "    model.add(Dense(length_long_sentence, activation = \"relu\"))\n",
    "    model.add(Dropout(0.5))\n",
    "    model.add(Dense(length_long_sentence, activation = \"relu\"))\n",
    "    model.add(Dropout(0.5))\n",
    "    model.add(Dense(1, activation = 'sigmoid'))\n",
    "    model.compile(optimizer='rmsprop', loss='binary_crossentropy', metrics=['accuracy'])\n",
    "    \n",
    "    return model\n",
    "\n",
    "model = glove_lstm()\n",
    "model.summary()"
   ]
  },
  {
   "cell_type": "code",
   "execution_count": 26,
   "id": "d69f1c7b",
   "metadata": {},
   "outputs": [
    {
     "name": "stdout",
     "output_type": "stream",
     "text": [
      "Epoch 1/6\n",
      "348/349 [============================>.] - ETA: 0s - loss: 0.4787 - accuracy: 0.7929\n",
      "Epoch 00001: val_loss improved from inf to 0.26182, saving model to model.h5\n",
      "349/349 [==============================] - 11s 23ms/step - loss: 0.4785 - accuracy: 0.7929 - val_loss: 0.2618 - val_accuracy: 0.8330 - lr: 0.0010\n",
      "Epoch 2/6\n",
      "347/349 [============================>.] - ETA: 0s - loss: 0.2901 - accuracy: 0.8471\n",
      "Epoch 00002: val_loss improved from 0.26182 to 0.22685, saving model to model.h5\n",
      "349/349 [==============================] - 8s 22ms/step - loss: 0.2900 - accuracy: 0.8471 - val_loss: 0.2269 - val_accuracy: 0.9161 - lr: 0.0010\n",
      "Epoch 3/6\n",
      "349/349 [==============================] - ETA: 0s - loss: 0.2215 - accuracy: 0.8836\n",
      "Epoch 00003: val_loss did not improve from 0.22685\n",
      "349/349 [==============================] - 8s 22ms/step - loss: 0.2215 - accuracy: 0.8836 - val_loss: 0.2302 - val_accuracy: 0.8956 - lr: 0.0010\n",
      "Epoch 4/6\n",
      "348/349 [============================>.] - ETA: 0s - loss: 0.1860 - accuracy: 0.9260\n",
      "Epoch 00004: val_loss improved from 0.22685 to 0.21072, saving model to model.h5\n",
      "349/349 [==============================] - 8s 22ms/step - loss: 0.1858 - accuracy: 0.9261 - val_loss: 0.2107 - val_accuracy: 0.9341 - lr: 0.0010\n",
      "Epoch 5/6\n",
      "349/349 [==============================] - ETA: 0s - loss: 0.1669 - accuracy: 0.9394\n",
      "Epoch 00005: val_loss improved from 0.21072 to 0.20570, saving model to model.h5\n",
      "349/349 [==============================] - 8s 22ms/step - loss: 0.1669 - accuracy: 0.9394 - val_loss: 0.2057 - val_accuracy: 0.9398 - lr: 0.0010\n",
      "Epoch 6/6\n",
      "349/349 [==============================] - ETA: 0s - loss: 0.1509 - accuracy: 0.9493\n",
      "Epoch 00006: val_loss did not improve from 0.20570\n",
      "349/349 [==============================] - 8s 22ms/step - loss: 0.1509 - accuracy: 0.9493 - val_loss: 0.2095 - val_accuracy: 0.9400 - lr: 0.0010\n"
     ]
    }
   ],
   "source": [
    "model=glove_lstm()\n",
    "\n",
    "from keras.callbacks import ModelCheckpoint, ReduceLROnPlateau\n",
    "\n",
    "checkpoint = ModelCheckpoint(\n",
    "    'model.h5', \n",
    "    monitor = 'val_loss', \n",
    "    verbose = 1, \n",
    "    save_best_only = True\n",
    ")\n",
    "reduce_lr = ReduceLROnPlateau(\n",
    "    monitor = 'val_loss', \n",
    "    factor = 0.2, \n",
    "    verbose = 1, \n",
    "    patience = 5,                        \n",
    "    min_lr = 0.001\n",
    ")\n",
    "history = model.fit(\n",
    "    X_train, \n",
    "    y_train, \n",
    "    epochs = 6,\n",
    "    batch_size = 32,\n",
    "    validation_data = (X_test, y_test),\n",
    "    verbose = 1,\n",
    "    callbacks = [reduce_lr, checkpoint]\n",
    ")"
   ]
  },
  {
   "cell_type": "code",
   "execution_count": 27,
   "id": "45612716",
   "metadata": {},
   "outputs": [
    {
     "data": {
      "text/plain": [
       "<AxesSubplot:ylabel='count'>"
      ]
     },
     "execution_count": 27,
     "metadata": {},
     "output_type": "execute_result"
    },
    {
     "data": {
      "image/png": "[encoded data removed]",
      "text/plain": [
       "<Figure size 432x288 with 1 Axes>"
      ]
     },
     "metadata": {
      "needs_background": "light"
     },
     "output_type": "display_data"
    }
   ],
   "source": [
    "test_preds_ltsm=model.predict(test_padded_sentences)\n",
    "\n",
    "test_preds_ltsm\n",
    "pred_test_f=[]\n",
    "for i in test_preds_ltsm:\n",
    "    if i < 0.7:\n",
    "        pred_test_f.append(0)\n",
    "    else:\n",
    "        pred_test_f.append(1)\n",
    "        \n",
    "sns.countplot(x=pred_test_f)"
   ]
  },
  {
   "cell_type": "code",
   "execution_count": 28,
   "id": "0d2fd7b1",
   "metadata": {},
   "outputs": [
    {
     "data": {
      "text/html": [
       "<div>\n",
       "<style scoped>\n",
       "    .dataframe tbody tr th:only-of-type {\n",
       "        vertical-align: middle;\n",
       "    }\n",
       "\n",
       "    .dataframe tbody tr th {\n",
       "        vertical-align: top;\n",
       "    }\n",
       "\n",
       "    .dataframe thead th {\n",
       "        text-align: right;\n",
       "    }\n",
       "</style>\n",
       "<table border=\"1\" class=\"dataframe\">\n",
       "  <thead>\n",
       "    <tr style=\"text-align: right;\">\n",
       "      <th></th>\n",
       "      <th>id</th>\n",
       "      <th>tweet</th>\n",
       "      <th>tweet_clean</th>\n",
       "      <th>class</th>\n",
       "    </tr>\n",
       "  </thead>\n",
       "  <tbody>\n",
       "    <tr>\n",
       "      <th>0</th>\n",
       "      <td>0</td>\n",
       "      <td>!!!!!!! RT @UrKindOfBrand Dawg!!!! RT @80sbaby...</td>\n",
       "      <td>urkindofbrand dawg   ever fuck bitch sta cri...</td>\n",
       "      <td>1</td>\n",
       "    </tr>\n",
       "    <tr>\n",
       "      <th>2</th>\n",
       "      <td>2</td>\n",
       "      <td>!!!!!!\"@__BrighterDays: I can not just sit up ...</td>\n",
       "      <td>brighterday sit hate anoth bitch  got much shi...</td>\n",
       "      <td>1</td>\n",
       "    </tr>\n",
       "    <tr>\n",
       "      <th>3</th>\n",
       "      <td>3</td>\n",
       "      <td>!!!!&amp;#8220;@selfiequeenbri: cause I'm tired of...</td>\n",
       "      <td>caus tire big bitch come us skinni</td>\n",
       "      <td>1</td>\n",
       "    </tr>\n",
       "    <tr>\n",
       "      <th>5</th>\n",
       "      <td>5</td>\n",
       "      <td>\" Keeks is a bitch she curves everyone \" lol I...</td>\n",
       "      <td>keek bitch curv everyon  lol walk convers lik...</td>\n",
       "      <td>1</td>\n",
       "    </tr>\n",
       "    <tr>\n",
       "      <th>6</th>\n",
       "      <td>6</td>\n",
       "      <td>\" So hoes that smoke are losers ? \" yea ... go...</td>\n",
       "      <td>hoe smoke loser   yea  go ig</td>\n",
       "      <td>1</td>\n",
       "    </tr>\n",
       "    <tr>\n",
       "      <th>...</th>\n",
       "      <td>...</td>\n",
       "      <td>...</td>\n",
       "      <td>...</td>\n",
       "      <td>...</td>\n",
       "    </tr>\n",
       "    <tr>\n",
       "      <th>9906</th>\n",
       "      <td>9906</td>\n",
       "      <td>you lil dumb ass bitch, i ain't fuckin wit chu...</td>\n",
       "      <td>lil dumb ass bitch aint fuckin wit chu got mil...</td>\n",
       "      <td>1</td>\n",
       "    </tr>\n",
       "    <tr>\n",
       "      <th>9908</th>\n",
       "      <td>9908</td>\n",
       "      <td>you worried bout other bitches, you need me for?</td>\n",
       "      <td>worri bout bitch need</td>\n",
       "      <td>1</td>\n",
       "    </tr>\n",
       "    <tr>\n",
       "      <th>9909</th>\n",
       "      <td>9909</td>\n",
       "      <td>you're all niggers</td>\n",
       "      <td>your nigger</td>\n",
       "      <td>1</td>\n",
       "    </tr>\n",
       "    <tr>\n",
       "      <th>9911</th>\n",
       "      <td>9911</td>\n",
       "      <td>young buck wanna eat!!.. dat nigguh like I ain...</td>\n",
       "      <td>young buck wanna eat dat nigguh like aint fuck...</td>\n",
       "      <td>1</td>\n",
       "    </tr>\n",
       "    <tr>\n",
       "      <th>9912</th>\n",
       "      <td>9912</td>\n",
       "      <td>youu got wild bitches tellin you lies</td>\n",
       "      <td>youu got wild bitch tellin lie</td>\n",
       "      <td>1</td>\n",
       "    </tr>\n",
       "  </tbody>\n",
       "</table>\n",
       "<p>7817 rows × 4 columns</p>\n",
       "</div>"
      ],
      "text/plain": [
       "        id                                              tweet  \\\n",
       "0        0  !!!!!!! RT @UrKindOfBrand Dawg!!!! RT @80sbaby...   \n",
       "2        2  !!!!!!\"@__BrighterDays: I can not just sit up ...   \n",
       "3        3  !!!!&#8220;@selfiequeenbri: cause I'm tired of...   \n",
       "5        5  \" Keeks is a bitch she curves everyone \" lol I...   \n",
       "6        6  \" So hoes that smoke are losers ? \" yea ... go...   \n",
       "...    ...                                                ...   \n",
       "9906  9906  you lil dumb ass bitch, i ain't fuckin wit chu...   \n",
       "9908  9908   you worried bout other bitches, you need me for?   \n",
       "9909  9909                                 you're all niggers   \n",
       "9911  9911  young buck wanna eat!!.. dat nigguh like I ain...   \n",
       "9912  9912              youu got wild bitches tellin you lies   \n",
       "\n",
       "                                            tweet_clean  class  \n",
       "0       urkindofbrand dawg   ever fuck bitch sta cri...      1  \n",
       "2     brighterday sit hate anoth bitch  got much shi...      1  \n",
       "3                   caus tire big bitch come us skinni       1  \n",
       "5      keek bitch curv everyon  lol walk convers lik...      1  \n",
       "6                          hoe smoke loser   yea  go ig      1  \n",
       "...                                                 ...    ...  \n",
       "9906  lil dumb ass bitch aint fuckin wit chu got mil...      1  \n",
       "9908                              worri bout bitch need      1  \n",
       "9909                                        your nigger      1  \n",
       "9911  young buck wanna eat dat nigguh like aint fuck...      1  \n",
       "9912                     youu got wild bitch tellin lie      1  \n",
       "\n",
       "[7817 rows x 4 columns]"
      ]
     },
     "execution_count": 28,
     "metadata": {},
     "output_type": "execute_result"
    }
   ],
   "source": [
    "upload_ltsm=upload\n",
    "test_ltsm=test\n",
    "upload_ltsm[\"class\"]=pred_test_f\n",
    "test_ltsm[\"class\"]=pred_test_f\n",
    "upload_ltsm=upload_ltsm.set_index(\"id\")\n",
    "upload_ltsm[\"class\"].replace({0: 2}, inplace=True)\n",
    "upload_ltsm\n",
    "test_hateoff=test_ltsm[test_ltsm[\"class\"] ==1]\n",
    "test_hateoff"
   ]
  },
  {
   "cell_type": "markdown",
   "id": "f366ca7e",
   "metadata": {},
   "source": [
    "LSTM (off and hateful)\n",
    "===================="
   ]
  },
  {
   "cell_type": "code",
   "execution_count": 29,
   "id": "91ad31b6",
   "metadata": {},
   "outputs": [],
   "source": [
    "\n",
    "train_hateoff=train[train[\"class\"] != 2]\n",
    "\n",
    "train_tweets_hateoff = train_hateoff['tweet_clean'].values\n",
    "test_tweets_hateoff = test_hateoff['tweet_clean'].values\n",
    "train_target = train_hateoff['class'].values"
   ]
  },
  {
   "cell_type": "code",
   "execution_count": 30,
   "id": "4b9b4262",
   "metadata": {},
   "outputs": [
    {
     "name": "stdout",
     "output_type": "stream",
     "text": [
      "863\n",
      "11491\n",
      "0.0698559171118666\n",
      "0.9301440828881334\n"
     ]
    },
    {
     "data": {
      "image/png": "[encoded data removed]",
      "text/plain": [
       "<Figure size 432x288 with 1 Axes>"
      ]
     },
     "metadata": {
      "needs_background": "light"
     },
     "output_type": "display_data"
    }
   ],
   "source": [
    "sns.countplot(x=train_target)\n",
    "hate=[]\n",
    "off=[]\n",
    "for i in train_target:\n",
    "    if i ==0:\n",
    "        hate.append(0)\n",
    "    elif i ==1:\n",
    "        off.append(1)\n",
    "print(len(hate))\n",
    "print(len(off))\n",
    "print((len(hate)/len(train_target)))\n",
    "print((len(off)/len(train_target)))"
   ]
  },
  {
   "cell_type": "code",
   "execution_count": 31,
   "id": "6b63363c",
   "metadata": {},
   "outputs": [
    {
     "data": {
      "text/html": [
       "<div>\n",
       "<style scoped>\n",
       "    .dataframe tbody tr th:only-of-type {\n",
       "        vertical-align: middle;\n",
       "    }\n",
       "\n",
       "    .dataframe tbody tr th {\n",
       "        vertical-align: top;\n",
       "    }\n",
       "\n",
       "    .dataframe thead th {\n",
       "        text-align: right;\n",
       "    }\n",
       "</style>\n",
       "<table border=\"1\" class=\"dataframe\">\n",
       "  <thead>\n",
       "    <tr style=\"text-align: right;\">\n",
       "      <th></th>\n",
       "      <th>class</th>\n",
       "      <th>tweet</th>\n",
       "      <th>tweet_clean</th>\n",
       "    </tr>\n",
       "  </thead>\n",
       "  <tbody>\n",
       "    <tr>\n",
       "      <th>0</th>\n",
       "      <td>1</td>\n",
       "      <td>[9-1-13] 2:50 pm \"son of a bitch ate my mac n ...</td>\n",
       "      <td>pm son bitch ate mac n chees</td>\n",
       "    </tr>\n",
       "    <tr>\n",
       "      <th>1</th>\n",
       "      <td>1</td>\n",
       "      <td>RT @BryceSerna: Don't be a pussy grab the boot...</td>\n",
       "      <td>bryceserna dont pussi grab booti love booti a...</td>\n",
       "    </tr>\n",
       "    <tr>\n",
       "      <th>2</th>\n",
       "      <td>2</td>\n",
       "      <td>RT @ClicquotSuave: bunch of rappers boutta flo...</td>\n",
       "      <td>clicquotsuav bunch rapper boutta flood intern...</td>\n",
       "    </tr>\n",
       "    <tr>\n",
       "      <th>3</th>\n",
       "      <td>2</td>\n",
       "      <td>@michigannews13 wow. Thats great language comi...</td>\n",
       "      <td>wow that great languag come hs coach sure rol...</td>\n",
       "    </tr>\n",
       "    <tr>\n",
       "      <th>4</th>\n",
       "      <td>1</td>\n",
       "      <td>and this is why I'm single, I don't fuck with ...</td>\n",
       "      <td>singl dont fuck bitch attitud foh</td>\n",
       "    </tr>\n",
       "  </tbody>\n",
       "</table>\n",
       "</div>"
      ],
      "text/plain": [
       "   class                                              tweet  \\\n",
       "0      1  [9-1-13] 2:50 pm \"son of a bitch ate my mac n ...   \n",
       "1      1  RT @BryceSerna: Don't be a pussy grab the boot...   \n",
       "2      2  RT @ClicquotSuave: bunch of rappers boutta flo...   \n",
       "3      2  @michigannews13 wow. Thats great language comi...   \n",
       "4      1  and this is why I'm single, I don't fuck with ...   \n",
       "\n",
       "                                         tweet_clean  \n",
       "0                      pm son bitch ate mac n chees   \n",
       "1   bryceserna dont pussi grab booti love booti a...  \n",
       "2   clicquotsuav bunch rapper boutta flood intern...  \n",
       "3   wow that great languag come hs coach sure rol...  \n",
       "4                  singl dont fuck bitch attitud foh  "
      ]
     },
     "execution_count": 31,
     "metadata": {},
     "output_type": "execute_result"
    }
   ],
   "source": [
    "train.head()"
   ]
  },
  {
   "cell_type": "code",
   "execution_count": 32,
   "id": "83035659",
   "metadata": {},
   "outputs": [
    {
     "name": "stdout",
     "output_type": "stream",
     "text": [
      "10881\n",
      "14802\n"
     ]
    }
   ],
   "source": [
    "from keras.preprocessing.text import Tokenizer\n",
    "\n",
    "\n",
    "word_tokenizer = Tokenizer()\n",
    "word_tokenizer.fit_on_texts(test_tweets_hateoff)\n",
    "vocab_length_test = len(word_tokenizer.word_index) + 1\n",
    "print(vocab_length_test)\n",
    "\n",
    "word_tokenizer = Tokenizer()\n",
    "word_tokenizer.fit_on_texts(train_tweets_hateoff)\n",
    "vocab_length_train = len(word_tokenizer.word_index) + 1\n",
    "print(vocab_length_train)\n"
   ]
  },
  {
   "cell_type": "code",
   "execution_count": 33,
   "id": "29d2e18a",
   "metadata": {},
   "outputs": [
    {
     "data": {
      "text/plain": [
       "array([[ 5363,   245,     1, ...,     0,     0,     0],\n",
       "       [ 5364,     8,     5, ...,     0,     0,     0],\n",
       "       [  303,     8,     4, ...,     0,     0,     0],\n",
       "       ...,\n",
       "       [14798,    89,     1, ...,     0,     0,     0],\n",
       "       [14799, 14800,    54, ...,     0,     0,     0],\n",
       "       [14801,     8,    14, ...,     0,     0,     0]])"
      ]
     },
     "execution_count": 33,
     "metadata": {},
     "output_type": "execute_result"
    }
   ],
   "source": [
    "from nltk import word_tokenize \n",
    "\n",
    "maxlength_train = max(train_tweets_hateoff, key=lambda sentence: len(word_tokenize(sentence)))\n",
    "length_long_sentence = len(word_tokenize(maxlength_train))\n",
    "\n",
    "from keras.preprocessing.sequence import pad_sequences\n",
    "\n",
    "train_padded_sentences = pad_sequences(\n",
    "    embed(train_tweets_hateoff), \n",
    "    length_long_sentence, \n",
    "    padding='post'\n",
    ")\n",
    "\n",
    "test_padded_sentences = pad_sequences(\n",
    "    embed(test_tweets_hateoff), \n",
    "    length_long_sentence,\n",
    "    padding='post'\n",
    ")\n",
    "\n",
    "train_padded_sentences"
   ]
  },
  {
   "cell_type": "code",
   "execution_count": 34,
   "id": "41794a5b",
   "metadata": {},
   "outputs": [
    {
     "data": {
      "text/plain": [
       "array([[ 0.        ,  0.        ,  0.        , ...,  0.        ,\n",
       "         0.        ,  0.        ],\n",
       "       [ 0.33096999,  0.082649  ,  0.66940999, ...,  0.14552   ,\n",
       "         0.096472  , -0.28279001],\n",
       "       [-0.1644    , -0.27706   , -0.33697   , ...,  0.17838   ,\n",
       "         0.67962003, -0.13873   ],\n",
       "       ...,\n",
       "       [ 0.        ,  0.        ,  0.        , ...,  0.        ,\n",
       "         0.        ,  0.        ],\n",
       "       [-0.0084675 ,  0.18178   , -0.14348   , ...,  0.43121001,\n",
       "         0.12015   ,  1.08010006],\n",
       "       [ 0.        ,  0.        ,  0.        , ...,  0.        ,\n",
       "         0.        ,  0.        ]])"
      ]
     },
     "execution_count": 34,
     "metadata": {},
     "output_type": "execute_result"
    }
   ],
   "source": [
    "embeddings_dictionary = dict()\n",
    "embedding_dim=100\n",
    "\n",
    "with open('glove.6B.100d.txt',encoding=\"utf-8\") as fp:\n",
    "    for line in fp.readlines():\n",
    "        records = line.split()\n",
    "        word = records[0]\n",
    "        vector_dimensions = np.asarray(records[1:], dtype='float32')\n",
    "        embeddings_dictionary [word] = vector_dimensions\n",
    "        \n",
    "embedding_matrix = np.zeros((vocab_length_train, embedding_dim))\n",
    "\n",
    "\n",
    "for word, index in word_tokenizer.word_index.items():\n",
    "    embedding_vector = embeddings_dictionary.get(word)\n",
    "    if embedding_vector is not None:\n",
    "        embedding_matrix[index] = embedding_vector\n",
    "        \n",
    "embedding_matrix"
   ]
  },
  {
   "cell_type": "code",
   "execution_count": 35,
   "id": "57462619",
   "metadata": {},
   "outputs": [],
   "source": [
    "X_train, X_test, y_train, y_test = train_test_split(\n",
    "    train_padded_sentences, \n",
    "    train_target, \n",
    "    test_size=0.25\n",
    ")"
   ]
  },
  {
   "cell_type": "code",
   "execution_count": 36,
   "id": "9f391b3e",
   "metadata": {},
   "outputs": [
    {
     "name": "stdout",
     "output_type": "stream",
     "text": [
      "Model: \"sequential_2\"\n",
      "_________________________________________________________________\n",
      " Layer (type)                Output Shape              Param #   \n",
      "=================================================================\n",
      " embedding_2 (Embedding)     (None, 23, 100)           1480200   \n",
      "                                                                 \n",
      " bidirectional_2 (Bidirectio  (None, 23, 46)           22816     \n",
      " nal)                                                            \n",
      "                                                                 \n",
      " global_max_pooling1d_2 (Glo  (None, 46)               0         \n",
      " balMaxPooling1D)                                                \n",
      "                                                                 \n",
      " batch_normalization_2 (Batc  (None, 46)               184       \n",
      " hNormalization)                                                 \n",
      "                                                                 \n",
      " dropout_6 (Dropout)         (None, 46)                0         \n",
      "                                                                 \n",
      " dense_6 (Dense)             (None, 23)                1081      \n",
      "                                                                 \n",
      " dropout_7 (Dropout)         (None, 23)                0         \n",
      "                                                                 \n",
      " dense_7 (Dense)             (None, 23)                552       \n",
      "                                                                 \n",
      " dropout_8 (Dropout)         (None, 23)                0         \n",
      "                                                                 \n",
      " dense_8 (Dense)             (None, 1)                 24        \n",
      "                                                                 \n",
      "=================================================================\n",
      "Total params: 1,504,857\n",
      "Trainable params: 1,504,765\n",
      "Non-trainable params: 92\n",
      "_________________________________________________________________\n"
     ]
    }
   ],
   "source": [
    "from keras.models import Sequential, Model\n",
    "from keras.layers import Embedding, Bidirectional, LSTM, GlobalMaxPool1D,BatchNormalization, Dropout, Dense\n",
    "\n",
    "def glove_lstm2():\n",
    "    model = Sequential()\n",
    "    \n",
    "    model.add(Embedding(\n",
    "        input_dim=embedding_matrix.shape[0], \n",
    "        output_dim=embedding_matrix.shape[1], \n",
    "        weights = [embedding_matrix], \n",
    "        input_length=length_long_sentence\n",
    "    ))\n",
    "    model.add(Bidirectional(LSTM(\n",
    "        length_long_sentence, \n",
    "        return_sequences = True, \n",
    "        recurrent_dropout=0.2\n",
    "    )))\n",
    "    \n",
    "    model.add(GlobalMaxPool1D())\n",
    "    model.add(BatchNormalization())\n",
    "    model.add(Dropout(0.5))\n",
    "    model.add(Dense(length_long_sentence, activation = \"relu\"))\n",
    "    model.add(Dropout(0.5))\n",
    "    model.add(Dense(length_long_sentence, activation = \"relu\"))\n",
    "    model.add(Dropout(0.5))\n",
    "    model.add(Dense(1, activation = 'sigmoid'))\n",
    "    model.compile(optimizer='rmsprop', loss='binary_crossentropy', metrics=['accuracy'])\n",
    "    \n",
    "    return model\n",
    "\n",
    "model = glove_lstm()\n",
    "model.summary()"
   ]
  },
  {
   "cell_type": "code",
   "execution_count": 37,
   "id": "1079438e",
   "metadata": {},
   "outputs": [
    {
     "name": "stdout",
     "output_type": "stream",
     "text": [
      "Epoch 1/2\n",
      "290/290 [==============================] - ETA: 0s - loss: 0.3902 - accuracy: 0.8852\n",
      "Epoch 00001: val_loss improved from inf to 0.26530, saving model to model.h5\n",
      "290/290 [==============================] - 9s 21ms/step - loss: 0.3902 - accuracy: 0.8852 - val_loss: 0.2653 - val_accuracy: 0.9353 - lr: 0.0010\n",
      "Epoch 2/2\n",
      "290/290 [==============================] - ETA: 0s - loss: 0.2840 - accuracy: 0.9269\n",
      "Epoch 00002: val_loss improved from 0.26530 to 0.19437, saving model to model.h5\n",
      "290/290 [==============================] - 6s 21ms/step - loss: 0.2840 - accuracy: 0.9269 - val_loss: 0.1944 - val_accuracy: 0.9353 - lr: 0.0010\n"
     ]
    }
   ],
   "source": [
    "model=glove_lstm2()\n",
    "\n",
    "from keras.callbacks import ModelCheckpoint, ReduceLROnPlateau\n",
    "\n",
    "checkpoint = ModelCheckpoint(\n",
    "    'model.h5', \n",
    "    monitor = 'val_loss', \n",
    "    verbose = 1, \n",
    "    save_best_only = True\n",
    ")\n",
    "reduce_lr = ReduceLROnPlateau(\n",
    "    monitor = 'val_loss', \n",
    "    factor = 0.2, \n",
    "    verbose = 1, \n",
    "    patience = 5,                        \n",
    "    min_lr = 0.001\n",
    ")\n",
    "history = model.fit(\n",
    "    X_train, \n",
    "    y_train, \n",
    "    epochs = 2,\n",
    "    batch_size = 32,\n",
    "    validation_data = (X_test, y_test),\n",
    "    verbose = 1,\n",
    "    callbacks = [reduce_lr, checkpoint]\n",
    ")"
   ]
  },
  {
   "cell_type": "code",
   "execution_count": 38,
   "id": "922c30f6",
   "metadata": {
    "scrolled": true
   },
   "outputs": [
    {
     "data": {
      "text/plain": [
       "<AxesSubplot:ylabel='count'>"
      ]
     },
     "execution_count": 38,
     "metadata": {},
     "output_type": "execute_result"
    },
    {
     "data": {
      "image/png": "[encoded data removed]",
      "text/plain": [
       "<Figure size 432x288 with 1 Axes>"
      ]
     },
     "metadata": {
      "needs_background": "light"
     },
     "output_type": "display_data"
    }
   ],
   "source": [
    "test_preds_ltsm_hateoff=model.predict(test_padded_sentences)\n",
    "\n",
    "test_preds_ltsm_hateoff\n",
    "pred_test_f_hateoff=[]\n",
    "for i in test_preds_ltsm_hateoff:\n",
    "    if i < 0.7:\n",
    "        pred_test_f_hateoff.append(0)\n",
    "    else:\n",
    "        pred_test_f_hateoff.append(1)\n",
    "        \n",
    "sns.countplot(x=pred_test_f_hateoff)"
   ]
  },
  {
   "cell_type": "code",
   "execution_count": 39,
   "id": "e5d16b52",
   "metadata": {
    "scrolled": true
   },
   "outputs": [
    {
     "name": "stderr",
     "output_type": "stream",
     "text": [
      "<ipython-input-39-e4490329fcec>:4: SettingWithCopyWarning: \n",
      "A value is trying to be set on a copy of a slice from a DataFrame.\n",
      "Try using .loc[row_indexer,col_indexer] = value instead\n",
      "\n",
      "See the caveats in the documentation: https://pandas.pydata.org/pandas-docs/stable/user_guide/indexing.html#returning-a-view-versus-a-copy\n",
      "  test_hateoff[\"class_hate\"]=pred_test_f_hateoff\n"
     ]
    },
    {
     "data": {
      "text/html": [
       "<div>\n",
       "<style scoped>\n",
       "    .dataframe tbody tr th:only-of-type {\n",
       "        vertical-align: middle;\n",
       "    }\n",
       "\n",
       "    .dataframe tbody tr th {\n",
       "        vertical-align: top;\n",
       "    }\n",
       "\n",
       "    .dataframe thead th {\n",
       "        text-align: right;\n",
       "    }\n",
       "</style>\n",
       "<table border=\"1\" class=\"dataframe\">\n",
       "  <thead>\n",
       "    <tr style=\"text-align: right;\">\n",
       "      <th></th>\n",
       "      <th>id</th>\n",
       "      <th>tweet</th>\n",
       "      <th>tweet_clean</th>\n",
       "      <th>class</th>\n",
       "      <th>class_hate</th>\n",
       "    </tr>\n",
       "  </thead>\n",
       "  <tbody>\n",
       "    <tr>\n",
       "      <th>0</th>\n",
       "      <td>0</td>\n",
       "      <td>!!!!!!! RT @UrKindOfBrand Dawg!!!! RT @80sbaby...</td>\n",
       "      <td>urkindofbrand dawg   ever fuck bitch sta cri...</td>\n",
       "      <td>1</td>\n",
       "      <td>1</td>\n",
       "    </tr>\n",
       "    <tr>\n",
       "      <th>2</th>\n",
       "      <td>2</td>\n",
       "      <td>!!!!!!\"@__BrighterDays: I can not just sit up ...</td>\n",
       "      <td>brighterday sit hate anoth bitch  got much shi...</td>\n",
       "      <td>1</td>\n",
       "      <td>1</td>\n",
       "    </tr>\n",
       "    <tr>\n",
       "      <th>3</th>\n",
       "      <td>3</td>\n",
       "      <td>!!!!&amp;#8220;@selfiequeenbri: cause I'm tired of...</td>\n",
       "      <td>caus tire big bitch come us skinni</td>\n",
       "      <td>1</td>\n",
       "      <td>1</td>\n",
       "    </tr>\n",
       "    <tr>\n",
       "      <th>5</th>\n",
       "      <td>5</td>\n",
       "      <td>\" Keeks is a bitch she curves everyone \" lol I...</td>\n",
       "      <td>keek bitch curv everyon  lol walk convers lik...</td>\n",
       "      <td>1</td>\n",
       "      <td>1</td>\n",
       "    </tr>\n",
       "    <tr>\n",
       "      <th>6</th>\n",
       "      <td>6</td>\n",
       "      <td>\" So hoes that smoke are losers ? \" yea ... go...</td>\n",
       "      <td>hoe smoke loser   yea  go ig</td>\n",
       "      <td>1</td>\n",
       "      <td>1</td>\n",
       "    </tr>\n",
       "    <tr>\n",
       "      <th>...</th>\n",
       "      <td>...</td>\n",
       "      <td>...</td>\n",
       "      <td>...</td>\n",
       "      <td>...</td>\n",
       "      <td>...</td>\n",
       "    </tr>\n",
       "    <tr>\n",
       "      <th>9906</th>\n",
       "      <td>9906</td>\n",
       "      <td>you lil dumb ass bitch, i ain't fuckin wit chu...</td>\n",
       "      <td>lil dumb ass bitch aint fuckin wit chu got mil...</td>\n",
       "      <td>1</td>\n",
       "      <td>1</td>\n",
       "    </tr>\n",
       "    <tr>\n",
       "      <th>9908</th>\n",
       "      <td>9908</td>\n",
       "      <td>you worried bout other bitches, you need me for?</td>\n",
       "      <td>worri bout bitch need</td>\n",
       "      <td>1</td>\n",
       "      <td>1</td>\n",
       "    </tr>\n",
       "    <tr>\n",
       "      <th>9909</th>\n",
       "      <td>9909</td>\n",
       "      <td>you're all niggers</td>\n",
       "      <td>your nigger</td>\n",
       "      <td>1</td>\n",
       "      <td>0</td>\n",
       "    </tr>\n",
       "    <tr>\n",
       "      <th>9911</th>\n",
       "      <td>9911</td>\n",
       "      <td>young buck wanna eat!!.. dat nigguh like I ain...</td>\n",
       "      <td>young buck wanna eat dat nigguh like aint fuck...</td>\n",
       "      <td>1</td>\n",
       "      <td>1</td>\n",
       "    </tr>\n",
       "    <tr>\n",
       "      <th>9912</th>\n",
       "      <td>9912</td>\n",
       "      <td>youu got wild bitches tellin you lies</td>\n",
       "      <td>youu got wild bitch tellin lie</td>\n",
       "      <td>1</td>\n",
       "      <td>1</td>\n",
       "    </tr>\n",
       "  </tbody>\n",
       "</table>\n",
       "<p>7817 rows × 5 columns</p>\n",
       "</div>"
      ],
      "text/plain": [
       "        id                                              tweet  \\\n",
       "0        0  !!!!!!! RT @UrKindOfBrand Dawg!!!! RT @80sbaby...   \n",
       "2        2  !!!!!!\"@__BrighterDays: I can not just sit up ...   \n",
       "3        3  !!!!&#8220;@selfiequeenbri: cause I'm tired of...   \n",
       "5        5  \" Keeks is a bitch she curves everyone \" lol I...   \n",
       "6        6  \" So hoes that smoke are losers ? \" yea ... go...   \n",
       "...    ...                                                ...   \n",
       "9906  9906  you lil dumb ass bitch, i ain't fuckin wit chu...   \n",
       "9908  9908   you worried bout other bitches, you need me for?   \n",
       "9909  9909                                 you're all niggers   \n",
       "9911  9911  young buck wanna eat!!.. dat nigguh like I ain...   \n",
       "9912  9912              youu got wild bitches tellin you lies   \n",
       "\n",
       "                                            tweet_clean  class  class_hate  \n",
       "0       urkindofbrand dawg   ever fuck bitch sta cri...      1           1  \n",
       "2     brighterday sit hate anoth bitch  got much shi...      1           1  \n",
       "3                   caus tire big bitch come us skinni       1           1  \n",
       "5      keek bitch curv everyon  lol walk convers lik...      1           1  \n",
       "6                          hoe smoke loser   yea  go ig      1           1  \n",
       "...                                                 ...    ...         ...  \n",
       "9906  lil dumb ass bitch aint fuckin wit chu got mil...      1           1  \n",
       "9908                              worri bout bitch need      1           1  \n",
       "9909                                        your nigger      1           0  \n",
       "9911  young buck wanna eat dat nigguh like aint fuck...      1           1  \n",
       "9912                     youu got wild bitch tellin lie      1           1  \n",
       "\n",
       "[7817 rows x 5 columns]"
      ]
     },
     "execution_count": 39,
     "metadata": {},
     "output_type": "execute_result"
    }
   ],
   "source": [
    "upload_ltsm\n",
    "\n",
    "\n",
    "test_hateoff[\"class_hate\"]=pred_test_f_hateoff\n",
    "test_hateoff"
   ]
  },
  {
   "cell_type": "code",
   "execution_count": 40,
   "id": "918f6193",
   "metadata": {},
   "outputs": [],
   "source": [
    "df1=test_hateoff[[\"id\",\"class_hate\"]]\n",
    "df=pd.merge(upload_ltsm,df1,how=\"left\",on=\"id\")\n",
    "df[\"class_hate\"].fillna(2,inplace=True)\n",
    "df.drop(columns=[\"class\"],inplace=True)\n",
    "df.rename(columns={\"class_hate\":\"class\"},inplace=True)\n",
    "df=df.set_index(\"id\")\n",
    "df.to_csv(\"upload_ltsm.csv\")"
   ]
  }
 ],
 "metadata": {
  "kernelspec": {
   "display_name": "Python 3",
   "language": "python",
   "name": "python3"
  },
  "language_info": {
   "codemirror_mode": {
    "name": "ipython",
    "version": 3
   },
   "file_extension": ".py",
   "mimetype": "text/x-python",
   "name": "python",
   "nbconvert_exporter": "python",
   "pygments_lexer": "ipython3",
   "version": "3.8.8"
  }
 },
 "nbformat": 4,
 "nbformat_minor": 5
}
